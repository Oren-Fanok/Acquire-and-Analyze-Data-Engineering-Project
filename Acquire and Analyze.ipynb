{
 "cells": [
  {
   "cell_type": "markdown",
   "id": "4a426142",
   "metadata": {},
   "source": [
    "# Acquire and Analyze Project"
   ]
  },
  {
   "cell_type": "markdown",
   "id": "3b3c1df5",
   "metadata": {},
   "source": [
    "# Initialize Twitter API "
   ]
  },
  {
   "cell_type": "code",
   "execution_count": 50,
   "id": "677fd3fb",
   "metadata": {
    "scrolled": true
   },
   "outputs": [],
   "source": [
    "import tweepy\n",
    "import pandas as pd\n",
    "import tweepy\n",
    "import os\n",
    "import datetime\n",
    "import re\n",
    "from string import punctuation\n",
    "from nltk.probability import FreqDist\n",
    "import nltk\n",
    "import numpy as np\n",
    "from collections import Counter,defaultdict\n",
    "from pprint import pprint\n",
    "from nltk.corpus import stopwords\n",
    "from collections import Counter\n",
    "sw = stopwords.words('english')\n",
    "import sqlite3\n",
    "import spacy\n",
    "from subject_object_extraction import findSVOs"
   ]
  },
  {
   "cell_type": "code",
   "execution_count": 2,
   "id": "1b717e83",
   "metadata": {},
   "outputs": [],
   "source": [
    "from fanok_api_keys import api_key, api_key_secret, bearer_token,access_token, access_token_secret"
   ]
  },
  {
   "cell_type": "code",
   "execution_count": 3,
   "id": "91132054",
   "metadata": {},
   "outputs": [],
   "source": [
    "#authentication\n",
    "\n",
    "auth = tweepy.OAuthHandler(api_key,api_key_secret)\n",
    "auth.set_access_token(access_token, access_token_secret)\n",
    "\n",
    "#API Connection\n",
    "\n",
    "api = tweepy.API(auth)"
   ]
  },
  {
   "cell_type": "markdown",
   "id": "f4e967d8",
   "metadata": {},
   "source": [
    "# Pulling our text data (Republican)"
   ]
  },
  {
   "cell_type": "code",
   "execution_count": 4,
   "id": "735f84a8",
   "metadata": {},
   "outputs": [],
   "source": [
    "user = 'tedcruz'\n",
    "repub_data = []\n",
    "tweets = tweepy.Cursor(api.user_timeline,screen_name = user, \n",
    "                        count = 200, \n",
    "                        tweet_mode = 'extended').items(200)\n",
    "\n",
    "for tweet in tweets:\n",
    "    repub_data.append([tweet.user.screen_name, tweet.full_text])"
   ]
  },
  {
   "cell_type": "code",
   "execution_count": 5,
   "id": "4f1ee219",
   "metadata": {},
   "outputs": [],
   "source": [
    "user = 'mtgreenee'\n",
    "\n",
    "tweets = tweepy.Cursor(api.user_timeline,screen_name = user, \n",
    "                        count = 200, \n",
    "                        tweet_mode = 'extended').items(200)\n",
    "\n",
    "for tweet in tweets:\n",
    "    repub_data.append([tweet.user.screen_name, tweet.full_text])\n"
   ]
  },
  {
   "cell_type": "code",
   "execution_count": 6,
   "id": "fc947f2a",
   "metadata": {},
   "outputs": [],
   "source": [
    "user = 'laurenboebert'\n",
    "\n",
    "tweets = tweepy.Cursor(api.user_timeline,screen_name = user, \n",
    "                        count = 200, \n",
    "                        tweet_mode = 'extended').items(200)\n",
    "\n",
    "for tweet in tweets:\n",
    "    repub_data.append([tweet.user.screen_name, tweet.full_text])"
   ]
  },
  {
   "cell_type": "code",
   "execution_count": 7,
   "id": "d3d6746e",
   "metadata": {},
   "outputs": [
    {
     "ename": "TooManyRequests",
     "evalue": "429 Too Many Requests\n88 - Rate limit exceeded",
     "output_type": "error",
     "traceback": [
      "\u001b[1;31m---------------------------------------------------------------------------\u001b[0m",
      "\u001b[1;31mTooManyRequests\u001b[0m                           Traceback (most recent call last)",
      "Input \u001b[1;32mIn [7]\u001b[0m, in \u001b[0;36m<cell line: 7>\u001b[1;34m()\u001b[0m\n\u001b[0;32m      1\u001b[0m keywords \u001b[38;5;241m=\u001b[39m \u001b[38;5;124m'\u001b[39m\u001b[38;5;124m#MAGA\u001b[39m\u001b[38;5;124m'\u001b[39m\n\u001b[0;32m      3\u001b[0m tweets \u001b[38;5;241m=\u001b[39m tweepy\u001b[38;5;241m.\u001b[39mCursor(api\u001b[38;5;241m.\u001b[39msearch_tweets,q \u001b[38;5;241m=\u001b[39m keywords, \n\u001b[0;32m      4\u001b[0m                         count \u001b[38;5;241m=\u001b[39m \u001b[38;5;241m300\u001b[39m, \n\u001b[0;32m      5\u001b[0m                         tweet_mode \u001b[38;5;241m=\u001b[39m \u001b[38;5;124m'\u001b[39m\u001b[38;5;124mextended\u001b[39m\u001b[38;5;124m'\u001b[39m)\u001b[38;5;241m.\u001b[39mitems()\n\u001b[1;32m----> 7\u001b[0m \u001b[38;5;28;01mfor\u001b[39;00m tweet \u001b[38;5;129;01min\u001b[39;00m tweets:\n\u001b[0;32m      8\u001b[0m     repub_data\u001b[38;5;241m.\u001b[39mappend([keywords,tweet\u001b[38;5;241m.\u001b[39mfull_text])\n",
      "File \u001b[1;32m~\\anaconda3\\lib\\site-packages\\tweepy\\cursor.py:86\u001b[0m, in \u001b[0;36mBaseIterator.__next__\u001b[1;34m(self)\u001b[0m\n\u001b[0;32m     85\u001b[0m \u001b[38;5;28;01mdef\u001b[39;00m \u001b[38;5;21m__next__\u001b[39m(\u001b[38;5;28mself\u001b[39m):\n\u001b[1;32m---> 86\u001b[0m     \u001b[38;5;28;01mreturn\u001b[39;00m \u001b[38;5;28;43mself\u001b[39;49m\u001b[38;5;241;43m.\u001b[39;49m\u001b[43mnext\u001b[49m\u001b[43m(\u001b[49m\u001b[43m)\u001b[49m\n",
      "File \u001b[1;32m~\\anaconda3\\lib\\site-packages\\tweepy\\cursor.py:286\u001b[0m, in \u001b[0;36mItemIterator.next\u001b[1;34m(self)\u001b[0m\n\u001b[0;32m    283\u001b[0m     \u001b[38;5;28;01mraise\u001b[39;00m \u001b[38;5;167;01mStopIteration\u001b[39;00m\n\u001b[0;32m    284\u001b[0m \u001b[38;5;28;01mif\u001b[39;00m \u001b[38;5;28mself\u001b[39m\u001b[38;5;241m.\u001b[39mcurrent_page \u001b[38;5;129;01mis\u001b[39;00m \u001b[38;5;28;01mNone\u001b[39;00m \u001b[38;5;129;01mor\u001b[39;00m \u001b[38;5;28mself\u001b[39m\u001b[38;5;241m.\u001b[39mpage_index \u001b[38;5;241m==\u001b[39m \u001b[38;5;28mlen\u001b[39m(\u001b[38;5;28mself\u001b[39m\u001b[38;5;241m.\u001b[39mcurrent_page) \u001b[38;5;241m-\u001b[39m \u001b[38;5;241m1\u001b[39m:\n\u001b[0;32m    285\u001b[0m     \u001b[38;5;66;03m# Reached end of current page, get the next page...\u001b[39;00m\n\u001b[1;32m--> 286\u001b[0m     \u001b[38;5;28mself\u001b[39m\u001b[38;5;241m.\u001b[39mcurrent_page \u001b[38;5;241m=\u001b[39m \u001b[38;5;28;43mnext\u001b[39;49m\u001b[43m(\u001b[49m\u001b[38;5;28;43mself\u001b[39;49m\u001b[38;5;241;43m.\u001b[39;49m\u001b[43mpage_iterator\u001b[49m\u001b[43m)\u001b[49m\n\u001b[0;32m    287\u001b[0m     \u001b[38;5;28;01mwhile\u001b[39;00m \u001b[38;5;28mlen\u001b[39m(\u001b[38;5;28mself\u001b[39m\u001b[38;5;241m.\u001b[39mcurrent_page) \u001b[38;5;241m==\u001b[39m \u001b[38;5;241m0\u001b[39m:\n\u001b[0;32m    288\u001b[0m         \u001b[38;5;28mself\u001b[39m\u001b[38;5;241m.\u001b[39mcurrent_page \u001b[38;5;241m=\u001b[39m \u001b[38;5;28mnext\u001b[39m(\u001b[38;5;28mself\u001b[39m\u001b[38;5;241m.\u001b[39mpage_iterator)\n",
      "File \u001b[1;32m~\\anaconda3\\lib\\site-packages\\tweepy\\cursor.py:86\u001b[0m, in \u001b[0;36mBaseIterator.__next__\u001b[1;34m(self)\u001b[0m\n\u001b[0;32m     85\u001b[0m \u001b[38;5;28;01mdef\u001b[39;00m \u001b[38;5;21m__next__\u001b[39m(\u001b[38;5;28mself\u001b[39m):\n\u001b[1;32m---> 86\u001b[0m     \u001b[38;5;28;01mreturn\u001b[39;00m \u001b[38;5;28;43mself\u001b[39;49m\u001b[38;5;241;43m.\u001b[39;49m\u001b[43mnext\u001b[49m\u001b[43m(\u001b[49m\u001b[43m)\u001b[49m\n",
      "File \u001b[1;32m~\\anaconda3\\lib\\site-packages\\tweepy\\cursor.py:167\u001b[0m, in \u001b[0;36mIdIterator.next\u001b[1;34m(self)\u001b[0m\n\u001b[0;32m    164\u001b[0m     \u001b[38;5;28;01mraise\u001b[39;00m \u001b[38;5;167;01mStopIteration\u001b[39;00m\n\u001b[0;32m    166\u001b[0m \u001b[38;5;28;01mif\u001b[39;00m \u001b[38;5;28mself\u001b[39m\u001b[38;5;241m.\u001b[39mindex \u001b[38;5;241m>\u001b[39m\u001b[38;5;241m=\u001b[39m \u001b[38;5;28mlen\u001b[39m(\u001b[38;5;28mself\u001b[39m\u001b[38;5;241m.\u001b[39mresults) \u001b[38;5;241m-\u001b[39m \u001b[38;5;241m1\u001b[39m:\n\u001b[1;32m--> 167\u001b[0m     data \u001b[38;5;241m=\u001b[39m \u001b[38;5;28mself\u001b[39m\u001b[38;5;241m.\u001b[39mmethod(max_id\u001b[38;5;241m=\u001b[39m\u001b[38;5;28mself\u001b[39m\u001b[38;5;241m.\u001b[39mmax_id, parser\u001b[38;5;241m=\u001b[39mRawParser(), \u001b[38;5;241m*\u001b[39m\u001b[38;5;28mself\u001b[39m\u001b[38;5;241m.\u001b[39margs, \u001b[38;5;241m*\u001b[39m\u001b[38;5;241m*\u001b[39m\u001b[38;5;28mself\u001b[39m\u001b[38;5;241m.\u001b[39mkwargs)\n\u001b[0;32m    169\u001b[0m     model \u001b[38;5;241m=\u001b[39m ModelParser()\u001b[38;5;241m.\u001b[39mparse(\n\u001b[0;32m    170\u001b[0m         data, api \u001b[38;5;241m=\u001b[39m \u001b[38;5;28mself\u001b[39m\u001b[38;5;241m.\u001b[39mmethod\u001b[38;5;241m.\u001b[39m\u001b[38;5;18m__self__\u001b[39m,\n\u001b[0;32m    171\u001b[0m         payload_list\u001b[38;5;241m=\u001b[39m\u001b[38;5;28mself\u001b[39m\u001b[38;5;241m.\u001b[39mmethod\u001b[38;5;241m.\u001b[39mpayload_list,\n\u001b[0;32m    172\u001b[0m         payload_type\u001b[38;5;241m=\u001b[39m\u001b[38;5;28mself\u001b[39m\u001b[38;5;241m.\u001b[39mmethod\u001b[38;5;241m.\u001b[39mpayload_type\n\u001b[0;32m    173\u001b[0m     )\n\u001b[0;32m    174\u001b[0m     result \u001b[38;5;241m=\u001b[39m \u001b[38;5;28mself\u001b[39m\u001b[38;5;241m.\u001b[39mmethod\u001b[38;5;241m.\u001b[39m\u001b[38;5;18m__self__\u001b[39m\u001b[38;5;241m.\u001b[39mparser\u001b[38;5;241m.\u001b[39mparse(\n\u001b[0;32m    175\u001b[0m         data, api \u001b[38;5;241m=\u001b[39m \u001b[38;5;28mself\u001b[39m\u001b[38;5;241m.\u001b[39mmethod\u001b[38;5;241m.\u001b[39m\u001b[38;5;18m__self__\u001b[39m,\n\u001b[0;32m    176\u001b[0m         payload_list\u001b[38;5;241m=\u001b[39m\u001b[38;5;28mself\u001b[39m\u001b[38;5;241m.\u001b[39mmethod\u001b[38;5;241m.\u001b[39mpayload_list,\n\u001b[0;32m    177\u001b[0m         payload_type\u001b[38;5;241m=\u001b[39m\u001b[38;5;28mself\u001b[39m\u001b[38;5;241m.\u001b[39mmethod\u001b[38;5;241m.\u001b[39mpayload_type\n\u001b[0;32m    178\u001b[0m     )\n",
      "File \u001b[1;32m~\\anaconda3\\lib\\site-packages\\tweepy\\api.py:33\u001b[0m, in \u001b[0;36mpagination.<locals>.decorator.<locals>.wrapper\u001b[1;34m(*args, **kwargs)\u001b[0m\n\u001b[0;32m     31\u001b[0m \u001b[38;5;129m@functools\u001b[39m\u001b[38;5;241m.\u001b[39mwraps(method)\n\u001b[0;32m     32\u001b[0m \u001b[38;5;28;01mdef\u001b[39;00m \u001b[38;5;21mwrapper\u001b[39m(\u001b[38;5;241m*\u001b[39margs, \u001b[38;5;241m*\u001b[39m\u001b[38;5;241m*\u001b[39mkwargs):\n\u001b[1;32m---> 33\u001b[0m     \u001b[38;5;28;01mreturn\u001b[39;00m method(\u001b[38;5;241m*\u001b[39margs, \u001b[38;5;241m*\u001b[39m\u001b[38;5;241m*\u001b[39mkwargs)\n",
      "File \u001b[1;32m~\\anaconda3\\lib\\site-packages\\tweepy\\api.py:46\u001b[0m, in \u001b[0;36mpayload.<locals>.decorator.<locals>.wrapper\u001b[1;34m(*args, **kwargs)\u001b[0m\n\u001b[0;32m     44\u001b[0m kwargs[\u001b[38;5;124m'\u001b[39m\u001b[38;5;124mpayload_list\u001b[39m\u001b[38;5;124m'\u001b[39m] \u001b[38;5;241m=\u001b[39m payload_list\n\u001b[0;32m     45\u001b[0m kwargs[\u001b[38;5;124m'\u001b[39m\u001b[38;5;124mpayload_type\u001b[39m\u001b[38;5;124m'\u001b[39m] \u001b[38;5;241m=\u001b[39m payload_type\n\u001b[1;32m---> 46\u001b[0m \u001b[38;5;28;01mreturn\u001b[39;00m method(\u001b[38;5;241m*\u001b[39margs, \u001b[38;5;241m*\u001b[39m\u001b[38;5;241m*\u001b[39mkwargs)\n",
      "File \u001b[1;32m~\\anaconda3\\lib\\site-packages\\tweepy\\api.py:1303\u001b[0m, in \u001b[0;36mAPI.search_tweets\u001b[1;34m(self, q, **kwargs)\u001b[0m\n\u001b[0;32m   1209\u001b[0m \u001b[38;5;129m@pagination\u001b[39m(mode\u001b[38;5;241m=\u001b[39m\u001b[38;5;124m'\u001b[39m\u001b[38;5;124mid\u001b[39m\u001b[38;5;124m'\u001b[39m)\n\u001b[0;32m   1210\u001b[0m \u001b[38;5;129m@payload\u001b[39m(\u001b[38;5;124m'\u001b[39m\u001b[38;5;124msearch_results\u001b[39m\u001b[38;5;124m'\u001b[39m)\n\u001b[0;32m   1211\u001b[0m \u001b[38;5;28;01mdef\u001b[39;00m \u001b[38;5;21msearch_tweets\u001b[39m(\u001b[38;5;28mself\u001b[39m, q, \u001b[38;5;241m*\u001b[39m\u001b[38;5;241m*\u001b[39mkwargs):\n\u001b[0;32m   1212\u001b[0m     \u001b[38;5;124;03m\"\"\"search_tweets(q, *, geocode, lang, locale, result_type, count, \\\u001b[39;00m\n\u001b[0;32m   1213\u001b[0m \u001b[38;5;124;03m                     until, since_id, max_id, include_entities)\u001b[39;00m\n\u001b[0;32m   1214\u001b[0m \n\u001b[1;32m   (...)\u001b[0m\n\u001b[0;32m   1301\u001b[0m \u001b[38;5;124;03m    .. _Twitter's documentation on the standard search API: https://developer.twitter.com/en/docs/twitter-api/v1/tweets/search/overview\u001b[39;00m\n\u001b[0;32m   1302\u001b[0m \u001b[38;5;124;03m    \"\"\"\u001b[39;00m\n\u001b[1;32m-> 1303\u001b[0m     \u001b[38;5;28;01mreturn\u001b[39;00m \u001b[38;5;28mself\u001b[39m\u001b[38;5;241m.\u001b[39mrequest(\n\u001b[0;32m   1304\u001b[0m         \u001b[38;5;124m'\u001b[39m\u001b[38;5;124mGET\u001b[39m\u001b[38;5;124m'\u001b[39m, \u001b[38;5;124m'\u001b[39m\u001b[38;5;124msearch/tweets\u001b[39m\u001b[38;5;124m'\u001b[39m, endpoint_parameters\u001b[38;5;241m=\u001b[39m(\n\u001b[0;32m   1305\u001b[0m             \u001b[38;5;124m'\u001b[39m\u001b[38;5;124mq\u001b[39m\u001b[38;5;124m'\u001b[39m, \u001b[38;5;124m'\u001b[39m\u001b[38;5;124mgeocode\u001b[39m\u001b[38;5;124m'\u001b[39m, \u001b[38;5;124m'\u001b[39m\u001b[38;5;124mlang\u001b[39m\u001b[38;5;124m'\u001b[39m, \u001b[38;5;124m'\u001b[39m\u001b[38;5;124mlocale\u001b[39m\u001b[38;5;124m'\u001b[39m, \u001b[38;5;124m'\u001b[39m\u001b[38;5;124mresult_type\u001b[39m\u001b[38;5;124m'\u001b[39m, \u001b[38;5;124m'\u001b[39m\u001b[38;5;124mcount\u001b[39m\u001b[38;5;124m'\u001b[39m,\n\u001b[0;32m   1306\u001b[0m             \u001b[38;5;124m'\u001b[39m\u001b[38;5;124muntil\u001b[39m\u001b[38;5;124m'\u001b[39m, \u001b[38;5;124m'\u001b[39m\u001b[38;5;124msince_id\u001b[39m\u001b[38;5;124m'\u001b[39m, \u001b[38;5;124m'\u001b[39m\u001b[38;5;124mmax_id\u001b[39m\u001b[38;5;124m'\u001b[39m, \u001b[38;5;124m'\u001b[39m\u001b[38;5;124minclude_entities\u001b[39m\u001b[38;5;124m'\u001b[39m\n\u001b[0;32m   1307\u001b[0m         ), q\u001b[38;5;241m=\u001b[39mq, \u001b[38;5;241m*\u001b[39m\u001b[38;5;241m*\u001b[39mkwargs\n\u001b[0;32m   1308\u001b[0m     )\n",
      "File \u001b[1;32m~\\anaconda3\\lib\\site-packages\\tweepy\\api.py:263\u001b[0m, in \u001b[0;36mAPI.request\u001b[1;34m(self, method, endpoint, endpoint_parameters, params, headers, json_payload, parser, payload_list, payload_type, post_data, files, require_auth, return_cursors, upload_api, use_cache, **kwargs)\u001b[0m\n\u001b[0;32m    261\u001b[0m     \u001b[38;5;28;01mraise\u001b[39;00m NotFound(resp)\n\u001b[0;32m    262\u001b[0m \u001b[38;5;28;01mif\u001b[39;00m resp\u001b[38;5;241m.\u001b[39mstatus_code \u001b[38;5;241m==\u001b[39m \u001b[38;5;241m429\u001b[39m:\n\u001b[1;32m--> 263\u001b[0m     \u001b[38;5;28;01mraise\u001b[39;00m TooManyRequests(resp)\n\u001b[0;32m    264\u001b[0m \u001b[38;5;28;01mif\u001b[39;00m resp\u001b[38;5;241m.\u001b[39mstatus_code \u001b[38;5;241m>\u001b[39m\u001b[38;5;241m=\u001b[39m \u001b[38;5;241m500\u001b[39m:\n\u001b[0;32m    265\u001b[0m     \u001b[38;5;28;01mraise\u001b[39;00m TwitterServerError(resp)\n",
      "\u001b[1;31mTooManyRequests\u001b[0m: 429 Too Many Requests\n88 - Rate limit exceeded"
     ]
    }
   ],
   "source": [
    "keywords = '#MAGA'\n",
    "\n",
    "tweets = tweepy.Cursor(api.search_tweets,q = keywords, \n",
    "                        count = 200, \n",
    "                        tweet_mode = 'extended').items(200)\n",
    "\n",
    "for tweet in tweets:\n",
    "    repub_data.append([keywords,tweet.full_text])"
   ]
  },
  {
   "cell_type": "markdown",
   "id": "08a7ccbb",
   "metadata": {},
   "source": [
    "# Pulling our text data (Democratic)"
   ]
  },
  {
   "cell_type": "code",
   "execution_count": 7,
   "id": "51fe6db1",
   "metadata": {},
   "outputs": [],
   "source": [
    "user = 'AOC'\n",
    "dem_data = []\n",
    "tweets = tweepy.Cursor(api.user_timeline,screen_name = user, \n",
    "                        count = 200, \n",
    "                        tweet_mode = 'extended').items(200)\n",
    "\n",
    "for tweet in tweets:\n",
    "    dem_data.append([tweet.user.screen_name, tweet.full_text])"
   ]
  },
  {
   "cell_type": "code",
   "execution_count": 8,
   "id": "de57f9b7",
   "metadata": {},
   "outputs": [],
   "source": [
    "user = 'potus'\n",
    "\n",
    "tweets = tweepy.Cursor(api.user_timeline,screen_name = user, \n",
    "                        count = 200, \n",
    "                        tweet_mode = 'extended').items(200)\n",
    "\n",
    "for tweet in tweets:\n",
    "    dem_data.append([tweet.user.screen_name, tweet.full_text])"
   ]
  },
  {
   "cell_type": "code",
   "execution_count": 9,
   "id": "354cedc3",
   "metadata": {},
   "outputs": [],
   "source": [
    "user = 'HillaryClinton'\n",
    "\n",
    "tweets = tweepy.Cursor(api.user_timeline,screen_name = user, \n",
    "                        count = 200, \n",
    "                        tweet_mode = 'extended').items(200)\n",
    "\n",
    "for tweet in tweets:\n",
    "    dem_data.append([tweet.user.screen_name, tweet.full_text])"
   ]
  },
  {
   "cell_type": "code",
   "execution_count": null,
   "id": "4813e390",
   "metadata": {},
   "outputs": [],
   "source": [
    "keywords = '#Democrat'\n",
    "\n",
    "tweets = tweepy.Cursor(api.search_tweets,q = keywords, \n",
    "                        count = 200, \n",
    "                        tweet_mode = 'extended').items(200)\n",
    "\n",
    "for tweet in tweets:\n",
    "    dem_data.append([keywords,tweet.full_text])"
   ]
  },
  {
   "cell_type": "markdown",
   "id": "bfc0647c",
   "metadata": {},
   "source": [
    "# Building our Republican DF"
   ]
  },
  {
   "cell_type": "code",
   "execution_count": 10,
   "id": "051a47dc",
   "metadata": {},
   "outputs": [],
   "source": [
    "columns = ['User/Keyword', 'Tweets']\n",
    "republican_df = pd.DataFrame(repub_data, columns = columns)"
   ]
  },
  {
   "cell_type": "code",
   "execution_count": 11,
   "id": "6fd30c40",
   "metadata": {},
   "outputs": [
    {
     "data": {
      "text/html": [
       "<div>\n",
       "<style scoped>\n",
       "    .dataframe tbody tr th:only-of-type {\n",
       "        vertical-align: middle;\n",
       "    }\n",
       "\n",
       "    .dataframe tbody tr th {\n",
       "        vertical-align: top;\n",
       "    }\n",
       "\n",
       "    .dataframe thead th {\n",
       "        text-align: right;\n",
       "    }\n",
       "</style>\n",
       "<table border=\"1\" class=\"dataframe\">\n",
       "  <thead>\n",
       "    <tr style=\"text-align: right;\">\n",
       "      <th></th>\n",
       "      <th>User/Keyword</th>\n",
       "      <th>Tweets</th>\n",
       "    </tr>\n",
       "  </thead>\n",
       "  <tbody>\n",
       "    <tr>\n",
       "      <th>0</th>\n",
       "      <td>tedcruz</td>\n",
       "      <td>ALL NEW #Verdict:\\n\\n5 Troubling Facts About S...</td>\n",
       "    </tr>\n",
       "    <tr>\n",
       "      <th>1</th>\n",
       "      <td>tedcruz</td>\n",
       "      <td>They hire strange boys at the NY Times…. https...</td>\n",
       "    </tr>\n",
       "    <tr>\n",
       "      <th>2</th>\n",
       "      <td>tedcruz</td>\n",
       "      <td>RT @ClayTravis: The Chinese are now staging ma...</td>\n",
       "    </tr>\n",
       "    <tr>\n",
       "      <th>3</th>\n",
       "      <td>tedcruz</td>\n",
       "      <td>strong words https://t.co/cLgtZzU9q2</td>\n",
       "    </tr>\n",
       "    <tr>\n",
       "      <th>4</th>\n",
       "      <td>tedcruz</td>\n",
       "      <td>Election Day has passed. \\n\\nShe wants to clos...</td>\n",
       "    </tr>\n",
       "    <tr>\n",
       "      <th>...</th>\n",
       "      <td>...</td>\n",
       "      <td>...</td>\n",
       "    </tr>\n",
       "    <tr>\n",
       "      <th>595</th>\n",
       "      <td>laurenboebert</td>\n",
       "      <td>“The land of the home and the free of the brav...</td>\n",
       "    </tr>\n",
       "    <tr>\n",
       "      <th>596</th>\n",
       "      <td>laurenboebert</td>\n",
       "      <td>I want Joe Biden to answer why he put the prio...</td>\n",
       "    </tr>\n",
       "    <tr>\n",
       "      <th>597</th>\n",
       "      <td>laurenboebert</td>\n",
       "      <td>Since Biden’s land grab prevents mining on 280...</td>\n",
       "    </tr>\n",
       "    <tr>\n",
       "      <th>598</th>\n",
       "      <td>laurenboebert</td>\n",
       "      <td>With Greta Thunberg now coming out in favor of...</td>\n",
       "    </tr>\n",
       "    <tr>\n",
       "      <th>599</th>\n",
       "      <td>laurenboebert</td>\n",
       "      <td>Joe Biden is busy locking up 280,000 acres in ...</td>\n",
       "    </tr>\n",
       "  </tbody>\n",
       "</table>\n",
       "<p>600 rows × 2 columns</p>\n",
       "</div>"
      ],
      "text/plain": [
       "      User/Keyword                                             Tweets\n",
       "0          tedcruz  ALL NEW #Verdict:\\n\\n5 Troubling Facts About S...\n",
       "1          tedcruz  They hire strange boys at the NY Times…. https...\n",
       "2          tedcruz  RT @ClayTravis: The Chinese are now staging ma...\n",
       "3          tedcruz               strong words https://t.co/cLgtZzU9q2\n",
       "4          tedcruz  Election Day has passed. \\n\\nShe wants to clos...\n",
       "..             ...                                                ...\n",
       "595  laurenboebert  “The land of the home and the free of the brav...\n",
       "596  laurenboebert  I want Joe Biden to answer why he put the prio...\n",
       "597  laurenboebert  Since Biden’s land grab prevents mining on 280...\n",
       "598  laurenboebert  With Greta Thunberg now coming out in favor of...\n",
       "599  laurenboebert  Joe Biden is busy locking up 280,000 acres in ...\n",
       "\n",
       "[600 rows x 2 columns]"
      ]
     },
     "execution_count": 11,
     "metadata": {},
     "output_type": "execute_result"
    }
   ],
   "source": [
    "republican_df"
   ]
  },
  {
   "cell_type": "markdown",
   "id": "133dca53",
   "metadata": {},
   "source": [
    "# Building our Democratic DF"
   ]
  },
  {
   "cell_type": "code",
   "execution_count": 12,
   "id": "b0f8cc4b",
   "metadata": {},
   "outputs": [],
   "source": [
    "columns = ['User/Keyword', 'Tweets']\n",
    "democratic_df = pd.DataFrame(dem_data, columns = columns)"
   ]
  },
  {
   "cell_type": "code",
   "execution_count": 13,
   "id": "6721810e",
   "metadata": {},
   "outputs": [
    {
     "data": {
      "text/html": [
       "<div>\n",
       "<style scoped>\n",
       "    .dataframe tbody tr th:only-of-type {\n",
       "        vertical-align: middle;\n",
       "    }\n",
       "\n",
       "    .dataframe tbody tr th {\n",
       "        vertical-align: top;\n",
       "    }\n",
       "\n",
       "    .dataframe thead th {\n",
       "        text-align: right;\n",
       "    }\n",
       "</style>\n",
       "<table border=\"1\" class=\"dataframe\">\n",
       "  <thead>\n",
       "    <tr style=\"text-align: right;\">\n",
       "      <th></th>\n",
       "      <th>User/Keyword</th>\n",
       "      <th>Tweets</th>\n",
       "    </tr>\n",
       "  </thead>\n",
       "  <tbody>\n",
       "    <tr>\n",
       "      <th>0</th>\n",
       "      <td>AOC</td>\n",
       "      <td>RT @RobertMackey: Elon Musk's Twitter just sus...</td>\n",
       "    </tr>\n",
       "    <tr>\n",
       "      <th>1</th>\n",
       "      <td>AOC</td>\n",
       "      <td>RT @HuffPostPol: Rep. Alexandria Ocasio-Cortez...</td>\n",
       "    </tr>\n",
       "    <tr>\n",
       "      <th>2</th>\n",
       "      <td>AOC</td>\n",
       "      <td>RT @lisatozzi: “It’s affecting our culture if ...</td>\n",
       "    </tr>\n",
       "    <tr>\n",
       "      <th>3</th>\n",
       "      <td>AOC</td>\n",
       "      <td>RT @POTUS: I'm confident that our student debt...</td>\n",
       "    </tr>\n",
       "    <tr>\n",
       "      <th>4</th>\n",
       "      <td>AOC</td>\n",
       "      <td>RT @RollingStone: In an interview with Rolling...</td>\n",
       "    </tr>\n",
       "    <tr>\n",
       "      <th>...</th>\n",
       "      <td>...</td>\n",
       "      <td>...</td>\n",
       "    </tr>\n",
       "    <tr>\n",
       "      <th>595</th>\n",
       "      <td>HillaryClinton</td>\n",
       "      <td>RT @sandylocks: It was an honor to be consider...</td>\n",
       "    </tr>\n",
       "    <tr>\n",
       "      <th>596</th>\n",
       "      <td>HillaryClinton</td>\n",
       "      <td>RT @ChelseaClinton: Ballet has always been a s...</td>\n",
       "    </tr>\n",
       "    <tr>\n",
       "      <th>597</th>\n",
       "      <td>HillaryClinton</td>\n",
       "      <td>RT @GlennonDoyle: HONORED to join Secretary @H...</td>\n",
       "    </tr>\n",
       "    <tr>\n",
       "      <th>598</th>\n",
       "      <td>HillaryClinton</td>\n",
       "      <td>Thanks for getting the word out about #Gutsy, ...</td>\n",
       "    </tr>\n",
       "    <tr>\n",
       "      <th>599</th>\n",
       "      <td>HillaryClinton</td>\n",
       "      <td>Thinking about the collective grief of 9/11, a...</td>\n",
       "    </tr>\n",
       "  </tbody>\n",
       "</table>\n",
       "<p>600 rows × 2 columns</p>\n",
       "</div>"
      ],
      "text/plain": [
       "       User/Keyword                                             Tweets\n",
       "0               AOC  RT @RobertMackey: Elon Musk's Twitter just sus...\n",
       "1               AOC  RT @HuffPostPol: Rep. Alexandria Ocasio-Cortez...\n",
       "2               AOC  RT @lisatozzi: “It’s affecting our culture if ...\n",
       "3               AOC  RT @POTUS: I'm confident that our student debt...\n",
       "4               AOC  RT @RollingStone: In an interview with Rolling...\n",
       "..              ...                                                ...\n",
       "595  HillaryClinton  RT @sandylocks: It was an honor to be consider...\n",
       "596  HillaryClinton  RT @ChelseaClinton: Ballet has always been a s...\n",
       "597  HillaryClinton  RT @GlennonDoyle: HONORED to join Secretary @H...\n",
       "598  HillaryClinton  Thanks for getting the word out about #Gutsy, ...\n",
       "599  HillaryClinton  Thinking about the collective grief of 9/11, a...\n",
       "\n",
       "[600 rows x 2 columns]"
      ]
     },
     "execution_count": 13,
     "metadata": {},
     "output_type": "execute_result"
    }
   ],
   "source": [
    "democratic_df"
   ]
  },
  {
   "cell_type": "markdown",
   "id": "7f289cd0",
   "metadata": {},
   "source": [
    "# Cleaning Tweets for Analysis"
   ]
  },
  {
   "cell_type": "code",
   "execution_count": 14,
   "id": "9114e98b",
   "metadata": {},
   "outputs": [],
   "source": [
    "punct_set = punctuation"
   ]
  },
  {
   "cell_type": "code",
   "execution_count": 15,
   "id": "fc4fbd49",
   "metadata": {},
   "outputs": [],
   "source": [
    "repub_names = ['ted', 'cruz', 'tedcruz', 'mtgreene', 'lauren','boebert']"
   ]
  },
  {
   "cell_type": "code",
   "execution_count": 16,
   "id": "43da2956",
   "metadata": {},
   "outputs": [],
   "source": [
    "#First let's make both our lists long strings\n",
    "\n",
    "repub_data_list= [','.join(w) for w in repub_data]\n",
    "\n",
    "#This gives us a long string of text\n",
    "repub_data_string = ''.join(repub_data_list)\n",
    "\n",
    "#this tokenizes our tweet data\n",
    "repub_data_tokenized_string = [w.lower() for w in repub_data_string.split() if w not in repub_names and w not in sw and w.isalpha() and w not in punct_set]\n"
   ]
  },
  {
   "cell_type": "code",
   "execution_count": 17,
   "id": "ddc2c5c5",
   "metadata": {},
   "outputs": [],
   "source": [
    "#repub_data_string\n",
    "#repub_data_tokenized_string"
   ]
  },
  {
   "cell_type": "code",
   "execution_count": 18,
   "id": "2f83e1a4",
   "metadata": {},
   "outputs": [],
   "source": [
    "dem_names = ['AOC', 'POTUS', 'HillaryClinton']"
   ]
  },
  {
   "cell_type": "code",
   "execution_count": 19,
   "id": "5f3ee0d2",
   "metadata": {},
   "outputs": [],
   "source": [
    "#First let's make both our lists long strings\n",
    "\n",
    "dem_data_list= [','.join(w) for w in dem_data]\n",
    "\n",
    "#This gives us a long string of text\n",
    "dem_data_string = ''.join(dem_data_list)\n",
    "\n",
    "#this tokenizes our tweet data\n",
    "dem_data_tokenized_string = [w.lower() for w in dem_data_string.split() if w not in dem_names and w not in sw and w.isalpha() and w not in punct_set]"
   ]
  },
  {
   "cell_type": "code",
   "execution_count": 20,
   "id": "fb8d5d70",
   "metadata": {},
   "outputs": [],
   "source": [
    "#dem_data_string\n",
    "#dem_data_tokenized_string"
   ]
  },
  {
   "cell_type": "markdown",
   "id": "43720c81",
   "metadata": {},
   "source": [
    "# Analysis 1: Most Popular Words"
   ]
  },
  {
   "cell_type": "code",
   "execution_count": 21,
   "id": "bd841b34",
   "metadata": {},
   "outputs": [],
   "source": [
    "import matplotlib.pyplot as plt; plt.rcdefaults()\n",
    "import numpy as np\n",
    "import matplotlib.pyplot as plt\n",
    "import seaborn as sns"
   ]
  },
  {
   "cell_type": "markdown",
   "id": "18a575d9",
   "metadata": {},
   "source": [
    "# Most Popular Words: Republican"
   ]
  },
  {
   "cell_type": "code",
   "execution_count": 22,
   "id": "ba0f44fa",
   "metadata": {},
   "outputs": [],
   "source": [
    "repub_freqdist = FreqDist()\n",
    "\n",
    "for word in repub_data_tokenized_string:\n",
    "    repub_freqdist[word]+=1  "
   ]
  },
  {
   "cell_type": "code",
   "execution_count": 23,
   "id": "41430633",
   "metadata": {},
   "outputs": [],
   "source": [
    "repub_top_words = repub_freqdist.most_common(20) "
   ]
  },
  {
   "cell_type": "code",
   "execution_count": 24,
   "id": "fff534ac",
   "metadata": {},
   "outputs": [],
   "source": [
    "columns = ['word', 'count']\n",
    "\n",
    "repub_words_df = pd.DataFrame(repub_top_words,columns = columns) "
   ]
  },
  {
   "cell_type": "code",
   "execution_count": 25,
   "id": "2861b190",
   "metadata": {
    "scrolled": true
   },
   "outputs": [],
   "source": [
    "#repub_words_df"
   ]
  },
  {
   "cell_type": "code",
   "execution_count": 26,
   "id": "9141560a",
   "metadata": {
    "scrolled": true
   },
   "outputs": [
    {
     "data": {
      "text/plain": [
       "<AxesSubplot:title={'center':'Republican Tweets: Top 20 Words'}, xlabel='Top Words', ylabel='Word Count'>"
      ]
     },
     "execution_count": 26,
     "metadata": {},
     "output_type": "execute_result"
    },
    {
     "data": {
      "image/png": "[encoded data removed]",
      "text/plain": [
       "<Figure size 1000x600 with 1 Axes>"
      ]
     },
     "metadata": {},
     "output_type": "display_data"
    }
   ],
   "source": [
    "repub_words_df.plot(kind='bar', figsize=(10,6), x='word', y='count', ylabel='Word Count',xlabel='Top Words', \n",
    "                    title='Republican Tweets: Top 20 Words')"
   ]
  },
  {
   "cell_type": "markdown",
   "id": "aaa550d3",
   "metadata": {},
   "source": [
    "# Most Popular Words: Democratic"
   ]
  },
  {
   "cell_type": "code",
   "execution_count": 27,
   "id": "1473dc6d",
   "metadata": {},
   "outputs": [],
   "source": [
    "dem_freqdist = FreqDist()\n",
    "\n",
    "for word in dem_data_tokenized_string:\n",
    "    dem_freqdist[word]+=1  "
   ]
  },
  {
   "cell_type": "code",
   "execution_count": 28,
   "id": "138bae30",
   "metadata": {},
   "outputs": [],
   "source": [
    "dem_top_words = dem_freqdist.most_common(20) "
   ]
  },
  {
   "cell_type": "code",
   "execution_count": 29,
   "id": "5b9f333d",
   "metadata": {},
   "outputs": [],
   "source": [
    "columns = ['word', 'count']\n",
    "\n",
    "dem_words_df = pd.DataFrame(dem_top_words,columns = columns) "
   ]
  },
  {
   "cell_type": "code",
   "execution_count": 30,
   "id": "cf5e5468",
   "metadata": {},
   "outputs": [],
   "source": [
    "#dem_words_df"
   ]
  },
  {
   "cell_type": "code",
   "execution_count": 31,
   "id": "1c6bbf74",
   "metadata": {},
   "outputs": [
    {
     "data": {
      "text/plain": [
       "<AxesSubplot:title={'center':'Democratic Tweets: Top 20 Words'}, xlabel='Top Words', ylabel='Word Count'>"
      ]
     },
     "execution_count": 31,
     "metadata": {},
     "output_type": "execute_result"
    },
    {
     "data": {
      "image/png": "[encoded data removed]",
      "text/plain": [
       "<Figure size 1000x600 with 1 Axes>"
      ]
     },
     "metadata": {},
     "output_type": "display_data"
    }
   ],
   "source": [
    "dem_words_df.plot(kind='bar', figsize=(10,6), x='word', y='count', ylabel='Word Count',xlabel='Top Words', \n",
    "                    title='Democratic Tweets: Top 20 Words')"
   ]
  },
  {
   "cell_type": "markdown",
   "id": "a4e71611",
   "metadata": {},
   "source": [
    "# Analysis 2: Text Patterns"
   ]
  },
  {
   "cell_type": "markdown",
   "id": "2dcedd8e",
   "metadata": {},
   "source": [
    "First lets add our Text Patterns function"
   ]
  },
  {
   "cell_type": "code",
   "execution_count": 32,
   "id": "a207462b",
   "metadata": {},
   "outputs": [],
   "source": [
    "def get_patterns(text)  :\n",
    "    \"\"\"\n",
    "        This function takes text as an input and returns a dictionary of statistics,\n",
    "        after cleaning the text. \n",
    "    \n",
    "    \"\"\"\n",
    "    \n",
    "    # We'll make things a big clearer by initializing the \n",
    "    # statistics here. These are placeholder values.\n",
    "    total_tokens = 0\n",
    "    unique_tokens = 0\n",
    "    avg_token_len = 0.0\n",
    "    lex_diversity = 0.0\n",
    "    top_10 = Counter()\n",
    "    \n",
    "    # Do your tokenization and normalization here\n",
    "    \n",
    "    text = [w.lower() for w in text.split() if w.lower() not in sw and w.isalpha()]\n",
    "    \n",
    "    \n",
    "    \n",
    "    # Calculate your statistics here\n",
    "    total_tokens = len(text)\n",
    "    unique_tokens = len(set(text))\n",
    "    avg_token_len = sum(len(w) for w in text) / len(text)\n",
    "    lex_diversity = unique_tokens/total_tokens\n",
    "    text_count= Counter(text)\n",
    "    top_10 = text_count.most_common(10)\n",
    "    \n",
    "    \n",
    "    # Now we'll fill out the dictionary. \n",
    "    \n",
    "    results = {'tokens':total_tokens,\n",
    "               'unique_tokens':unique_tokens,\n",
    "               'avg_token_length':avg_token_len,\n",
    "               'lexical_diversity':lex_diversity,\n",
    "               'top_10':top_10}\n",
    "\n",
    "    return(results)\n"
   ]
  },
  {
   "cell_type": "markdown",
   "id": "e39b1a50",
   "metadata": {},
   "source": [
    "# Republican Results"
   ]
  },
  {
   "cell_type": "code",
   "execution_count": 33,
   "id": "0c2a3dfa",
   "metadata": {},
   "outputs": [
    {
     "data": {
      "text/plain": [
       "{'tokens': 6387,\n",
       " 'unique_tokens': 2449,\n",
       " 'avg_token_length': 6.048849224988257,\n",
       " 'lexical_diversity': 0.38343510255205887,\n",
       " 'top_10': [('people', 86),\n",
       "  ('biden', 59),\n",
       "  ('democrats', 38),\n",
       "  ('us', 34),\n",
       "  ('want', 31),\n",
       "  ('vote', 30),\n",
       "  ('get', 30),\n",
       "  ('time', 29),\n",
       "  ('new', 28),\n",
       "  ('one', 28)]}"
      ]
     },
     "execution_count": 33,
     "metadata": {},
     "output_type": "execute_result"
    }
   ],
   "source": [
    "get_patterns(repub_data_string)"
   ]
  },
  {
   "cell_type": "markdown",
   "id": "6912d432",
   "metadata": {},
   "source": [
    "# Democratic Results"
   ]
  },
  {
   "cell_type": "code",
   "execution_count": 34,
   "id": "de6fdf02",
   "metadata": {},
   "outputs": [
    {
     "data": {
      "text/plain": [
       "{'tokens': 6309,\n",
       " 'unique_tokens': 2488,\n",
       " 'avg_token_length': 6.216357584403234,\n",
       " 'lexical_diversity': 0.3943572673957838,\n",
       " 'top_10': [('one', 44),\n",
       "  ('people', 43),\n",
       "  ('women', 43),\n",
       "  ('get', 42),\n",
       "  ('new', 37),\n",
       "  ('us', 30),\n",
       "  ('working', 30),\n",
       "  ('work', 29),\n",
       "  ('every', 28),\n",
       "  ('make', 28)]}"
      ]
     },
     "execution_count": 34,
     "metadata": {},
     "output_type": "execute_result"
    }
   ],
   "source": [
    "get_patterns(dem_data_string)"
   ]
  },
  {
   "cell_type": "markdown",
   "id": "99087ca3",
   "metadata": {},
   "source": [
    "# Analysis 3: Parsing"
   ]
  },
  {
   "cell_type": "markdown",
   "id": "a9aacaa9",
   "metadata": {},
   "source": [
    "First let's import our spacy package"
   ]
  },
  {
   "cell_type": "code",
   "execution_count": 35,
   "id": "23d37fab",
   "metadata": {},
   "outputs": [],
   "source": [
    "import sqlite3\n",
    "import spacy\n",
    "from subject_object_extraction import findSVOs"
   ]
  },
  {
   "cell_type": "code",
   "execution_count": 36,
   "id": "10c31039",
   "metadata": {},
   "outputs": [],
   "source": [
    "## now let's set up our parser\n",
    "parser = spacy.load('en_core_web_sm')"
   ]
  },
  {
   "cell_type": "markdown",
   "id": "28bd92c8",
   "metadata": {},
   "source": [
    "# Republican Parsing"
   ]
  },
  {
   "cell_type": "code",
   "execution_count": 37,
   "id": "bdf722a6",
   "metadata": {},
   "outputs": [],
   "source": [
    "republican_string = [w for w in repub_data_string if w.isalpha and w not in punct_set]\n",
    "republican_string = ''.join(republican_string)"
   ]
  },
  {
   "cell_type": "code",
   "execution_count": 38,
   "id": "f104bfbd",
   "metadata": {},
   "outputs": [],
   "source": [
    "republican_string = parser(republican_string)"
   ]
  },
  {
   "cell_type": "code",
   "execution_count": 39,
   "id": "35489629",
   "metadata": {},
   "outputs": [],
   "source": [
    "republican_svos = (findSVOs(republican_string))"
   ]
  },
  {
   "cell_type": "code",
   "execution_count": 40,
   "id": "2054e108",
   "metadata": {},
   "outputs": [],
   "source": [
    "count_republican = Counter(republican_svos)"
   ]
  },
  {
   "cell_type": "markdown",
   "id": "bde94e2f",
   "metadata": {},
   "source": [
    "# Republican Results: Most Common 20 SVOS"
   ]
  },
  {
   "cell_type": "code",
   "execution_count": 41,
   "id": "3a419924",
   "metadata": {},
   "outputs": [
    {
     "data": {
      "text/plain": [
       "[(('it', '’s', 'time'), 3),\n",
       " (('there', 'is', 'nothing'), 3),\n",
       " (('i', 'told', 'trump'), 3),\n",
       " (('life', 'saving', 'treatments'), 3),\n",
       " (('order', 'switch', 'americans'), 3),\n",
       " (('they', 'called', 'you'), 3),\n",
       " (('weapon', 'persecute', 'enemies'), 2),\n",
       " (('republicans', 'focus', 'biden'), 2),\n",
       " (('antifa', 'afford', 'bricks'), 2),\n",
       " (('verdict', 'listen', 'pod'), 2),\n",
       " (('biden', 'give', 'to'), 2),\n",
       " (('tedcruzby', 'prosecute', 'predecessor'), 2),\n",
       " (('you', 'miss', 'episode'), 2),\n",
       " (('he', 'left', 'office'), 2),\n",
       " (('he', 'had', 'nothing'), 2),\n",
       " (('i', 'toured', 'jail'), 2),\n",
       " (('he', 'pardon', 'defendants'), 2),\n",
       " (('covid', 'masking', 'children'), 2),\n",
       " (('who', '!compromise', 'freedoms'), 2),\n",
       " (('there', 'are', 'millions'), 2)]"
      ]
     },
     "execution_count": 41,
     "metadata": {},
     "output_type": "execute_result"
    }
   ],
   "source": [
    "count_republican.most_common(20)"
   ]
  },
  {
   "cell_type": "markdown",
   "id": "372867d4",
   "metadata": {},
   "source": [
    "# Democratic Parsing"
   ]
  },
  {
   "cell_type": "code",
   "execution_count": 42,
   "id": "e2ff46dc",
   "metadata": {},
   "outputs": [],
   "source": [
    "democratic_string = [w for w in dem_data_string if w.isalpha and w not in punct_set]\n",
    "democratic_string = ''.join(democratic_string)"
   ]
  },
  {
   "cell_type": "code",
   "execution_count": 43,
   "id": "7556fb13",
   "metadata": {},
   "outputs": [],
   "source": [
    "democratic_string = parser(dem_data_string)"
   ]
  },
  {
   "cell_type": "code",
   "execution_count": 44,
   "id": "c7b1e4a4",
   "metadata": {},
   "outputs": [],
   "source": [
    "democratic_svos = (findSVOs(democratic_string))"
   ]
  },
  {
   "cell_type": "code",
   "execution_count": 45,
   "id": "d4246261",
   "metadata": {},
   "outputs": [],
   "source": [
    "count_democratic = Counter(democratic_svos)"
   ]
  },
  {
   "cell_type": "markdown",
   "id": "08a2a355",
   "metadata": {},
   "source": [
    "# Democratic Results: Most Common 20 SVOS"
   ]
  },
  {
   "cell_type": "code",
   "execution_count": 46,
   "id": "c3cd3e36",
   "metadata": {},
   "outputs": [
    {
     "data": {
      "text/plain": [
       "[(('you', 'have', 'chance'), 4),\n",
       " (('i', 'deliver', 'remarks'), 4),\n",
       " (('it', 'take', 'time'), 3),\n",
       " (('it', '’s', 'hold'), 2),\n",
       " (('officials', 'block', 'it'), 2),\n",
       " (('letter', 'pardon', 'offenses'), 2),\n",
       " (('people', 'pay', '8'), 2),\n",
       " (('state', 'legalize', 'state'), 2),\n",
       " (('privilege', 'serving', 'you'), 2),\n",
       " (('privilege', 'serving', 'yo'), 2),\n",
       " (('it', '’s', 'day'), 2),\n",
       " (('@kathyhochul', 'have', 'support'), 2),\n",
       " (('billionaire', 'sell', 'people'), 2),\n",
       " (('billionaire', 'sell', 'idea'), 2),\n",
       " (('power', 'belongs', '_'), 2),\n",
       " (('we', 'creating', 'jobs'), 2),\n",
       " (('we', 'owe', 'debt'), 2),\n",
       " (('obligation', 'care', 'families'), 2),\n",
       " (('we', 'send', 'way'), 2),\n",
       " (('who', 'joined', 'us'), 2)]"
      ]
     },
     "execution_count": 46,
     "metadata": {},
     "output_type": "execute_result"
    }
   ],
   "source": [
    "count_democratic.most_common(20)"
   ]
  },
  {
   "cell_type": "markdown",
   "id": "215c6248",
   "metadata": {},
   "source": [
    "# Analysis 4: Text Comparison"
   ]
  },
  {
   "cell_type": "code",
   "execution_count": 51,
   "id": "102931de",
   "metadata": {},
   "outputs": [],
   "source": [
    "def compare_texts(corpus_1,corpus_2, num_words = 10, ratio_cutoff = 5):\n",
    "    \n",
    "    combined_dict1 = {}\n",
    "    combined_dict2 = {}\n",
    "    oneV2Dict = {}\n",
    "    twoV1Dict = {}\n",
    "    outputDict = {\"one\":combined_dict1,\"two\":combined_dict2,\"one_vs_two\": oneV2Dict,\"two_vs_one\":twoV1Dict}\n",
    "    \n",
    "    c = Counter()   \n",
    "    total_tokens = 1\n",
    "    unique_tokens = 0\n",
    "    avg_token_len = 0.0\n",
    "    lex_diversity = 0.0\n",
    "    top_10 = Counter()\n",
    "    \n",
    "    #Clean corpus 1 and perform analysis\n",
    "    c1_clean = [word for word in corpus_1]\n",
    "    c1_clean = [word.lower() for word in c1_clean if word.isalpha() and word.lower() not in sw]        \n",
    "    c.update(c1_clean)        \n",
    "    total_tokens = len(c1_clean)\n",
    "    unique_tokens = len(set(c1_clean))\n",
    "    lex_diversity = (unique_tokens/total_tokens)       \n",
    "    token_len = [len(word) for word in c1_clean]    \n",
    "    avg_token_len = np.mean(token_len)\n",
    "    top_10 = c.most_common(10)\n",
    "    \n",
    "    combined_dict1 = {'tokens':total_tokens,\n",
    "                'unique_tokens':unique_tokens,\n",
    "                'avg_token_length':avg_token_len,\n",
    "                'lexical_diversity':lex_diversity,\n",
    "                'top_words':top_10}\n",
    "    \n",
    "    #Clean corpus 2 and perform analysis\n",
    "    c2_clean = [word for word in corpus_2]\n",
    "    c2_clean = [word.lower() for word in c2_clean if word.isalpha() and word.lower() not in sw]\n",
    "    \n",
    "    c.update(c2_clean) \n",
    "    total_tokens = len(c2_clean)\n",
    "    unique_tokens = len(set(c2_clean))\n",
    "    lex_diversity = (unique_tokens/total_tokens)    \n",
    "    token_len = [len(word) for word in c2_clean]    \n",
    "    avg_token_len = np.mean(token_len)\n",
    "    top_10 = c.most_common(10)\n",
    "\n",
    "    combined_dict2 = {'tokens':total_tokens,\n",
    "                'unique_tokens':unique_tokens,\n",
    "                'avg_token_length':avg_token_len,\n",
    "                'lexical_diversity':lex_diversity,\n",
    "                'top_words':top_10}\n",
    "    \n",
    "    freq1 = nltk.FreqDist(c1_clean)\n",
    "    freq2 = nltk.FreqDist(c2_clean)\n",
    "    \n",
    "    #Create and fill concentration dictionary for each corpus, taking cutoff into account\n",
    "    corpus_one_concentration = defaultdict(float)\n",
    "    corpus_two_concentration = defaultdict(float)\n",
    "    \n",
    "    for word, freq in freq1.items():\n",
    "        corpus_one_concentration[word] = freq/len(c1_clean)\n",
    "    \n",
    "    for word, freq in freq2.items():\n",
    "        corpus_two_concentration[word] = freq/len(c2_clean)\n",
    "                \n",
    "    oneV2Dict = {}\n",
    "    twoV1Dict = {}\n",
    "    \n",
    "    for word in corpus_one_concentration:\n",
    "        if ratio_cutoff > freq1[word] or ratio_cutoff > freq2[word]:\n",
    "            continue\n",
    "        ratio1 = corpus_one_concentration[word]/corpus_two_concentration[word] \n",
    "        \n",
    "        oneV2Dict[word] = ratio1\n",
    "    \n",
    "    for word in corpus_two_concentration:\n",
    "        if ratio_cutoff > freq1[word] or ratio_cutoff > freq2[word]:\n",
    "            continue\n",
    "        ratio2 = corpus_two_concentration[word]/corpus_one_concentration[word] \n",
    "        \n",
    "        twoV1Dict[word] = ratio2\n",
    "    \n",
    "    #Fill results dictionary with analysis and comparison.\n",
    "    outputDict = {\"Republican\":combined_dict1,\"Democarat\":combined_dict2,\"Republican_vs_Democrat\": sorted(oneV2Dict.items(), key = lambda item:item[1], reverse = True)[:num_words],\"Democrat_vs_Republican\":sorted(twoV1Dict.items(), key = lambda item:item[1], reverse = True)[:num_words]}\n",
    "    print(outputDict)"
   ]
  },
  {
   "cell_type": "code",
   "execution_count": 52,
   "id": "fb5a3e06",
   "metadata": {},
   "outputs": [
    {
     "name": "stdout",
     "output_type": "stream",
     "text": [
      "{'Republican': {'tokens': 47491, 'unique_tokens': 18, 'avg_token_length': 1.0, 'lexical_diversity': 0.0003790191825819629, 'top_words': [('e', 10924), ('n', 5826), ('r', 5666), ('h', 3709), ('l', 3436), ('c', 3194), ('u', 2604), ('p', 2269), ('g', 1961), ('b', 1723)]}, 'Democarat': {'tokens': 45976, 'unique_tokens': 22, 'avg_token_length': 1.0, 'lexical_diversity': 0.0004785105272315991, 'top_words': [('e', 20060), ('n', 11966), ('r', 11158), ('h', 7475), ('l', 7472), ('c', 6618), ('u', 5123), ('p', 4548), ('g', 3828), ('f', 3291)]}, 'Republican_vs_Democrat': [('z', 2.1473264587198377), ('b', 1.442936811411144), ('e', 1.1575652217780337), ('v', 1.126971547412297), ('q', 1.074192283873253), ('j', 1.0448387910212513), ('x', 1.0252865144246295), ('g', 1.0168412255305455), ('u', 1.0007663222522871), ('r', 0.9987709711793746)], 'Democrat_vs_Republican': [('k', 1.2840825009618102), ('l', 1.2133277563654712), ('w', 1.1689561849425862), ('c', 1.1073348660633588), ('n', 1.0886242921649114), ('f', 1.0798167941919707), ('h', 1.0488264054022722), ('p', 1.0375044296589333), ('r', 1.0012305411912144), ('u', 0.9992342645478293)]}\n"
     ]
    }
   ],
   "source": [
    "compare_texts(repub_data_string, dem_data_string)"
   ]
  }
 ],
 "metadata": {
  "kernelspec": {
   "display_name": "Python 3 (ipykernel)",
   "language": "python",
   "name": "python3"
  },
  "language_info": {
   "codemirror_mode": {
    "name": "ipython",
    "version": 3
   },
   "file_extension": ".py",
   "mimetype": "text/x-python",
   "name": "python",
   "nbconvert_exporter": "python",
   "pygments_lexer": "ipython3",
   "version": "3.9.12"
  }
 },
 "nbformat": 4,
 "nbformat_minor": 5
}
