{
 "cells": [
  {
   "cell_type": "markdown",
   "id": "4a426142",
   "metadata": {},
   "source": [
    "# Acquire and Analyze Project"
   ]
  },
  {
   "cell_type": "markdown",
   "id": "3b3c1df5",
   "metadata": {},
   "source": [
    "# Initialize Twitter API "
   ]
  },
  {
   "cell_type": "code",
   "execution_count": 1,
   "id": "677fd3fb",
   "metadata": {
    "scrolled": true
   },
   "outputs": [],
   "source": [
    "import tweepy\n",
    "import pandas as pd\n",
    "import tweepy\n",
    "import os\n",
    "import datetime\n",
    "import re\n",
    "from string import punctuation\n",
    "from nltk.probability import FreqDist\n",
    "import nltk\n",
    "import numpy as np\n",
    "from collections import Counter\n",
    "from pprint import pprint\n",
    "from nltk.corpus import stopwords\n",
    "from collections import Counter\n",
    "sw = stopwords.words('english')\n",
    "import sqlite3\n",
    "import spacy\n",
    "from subject_object_extraction import findSVOs"
   ]
  },
  {
   "cell_type": "code",
   "execution_count": 2,
   "id": "1b717e83",
   "metadata": {},
   "outputs": [],
   "source": [
    "from fanok_api_keys import api_key, api_key_secret, bearer_token,access_token, access_token_secret"
   ]
  },
  {
   "cell_type": "code",
   "execution_count": 3,
   "id": "91132054",
   "metadata": {},
   "outputs": [],
   "source": [
    "#authentication\n",
    "\n",
    "auth = tweepy.OAuthHandler(api_key,api_key_secret)\n",
    "auth.set_access_token(access_token, access_token_secret)\n",
    "\n",
    "#API Connection\n",
    "\n",
    "api = tweepy.API(auth)"
   ]
  },
  {
   "cell_type": "markdown",
   "id": "f4e967d8",
   "metadata": {},
   "source": [
    "# Pulling our text data (Republican)"
   ]
  },
  {
   "cell_type": "code",
   "execution_count": 4,
   "id": "735f84a8",
   "metadata": {},
   "outputs": [],
   "source": [
    "user = 'tedcruz'\n",
    "repub_data = []\n",
    "tweets = tweepy.Cursor(api.user_timeline,screen_name = user, \n",
    "                        count = 300, \n",
    "                        tweet_mode = 'extended').items()\n",
    "\n",
    "for tweet in tweets:\n",
    "    repub_data.append([tweet.user.screen_name, tweet.full_text])"
   ]
  },
  {
   "cell_type": "code",
   "execution_count": 5,
   "id": "4f1ee219",
   "metadata": {},
   "outputs": [],
   "source": [
    "user = 'mtgreenee'\n",
    "\n",
    "tweets = tweepy.Cursor(api.user_timeline,screen_name = user, \n",
    "                        count = 300, \n",
    "                        tweet_mode = 'extended').items()\n",
    "\n",
    "for tweet in tweets:\n",
    "    repub_data.append([tweet.user.screen_name, tweet.full_text])\n"
   ]
  },
  {
   "cell_type": "code",
   "execution_count": 6,
   "id": "fc947f2a",
   "metadata": {},
   "outputs": [],
   "source": [
    "user = 'laurenboebert'\n",
    "\n",
    "tweets = tweepy.Cursor(api.user_timeline,screen_name = user, \n",
    "                        count = 300, \n",
    "                        tweet_mode = 'extended').items()\n",
    "\n",
    "for tweet in tweets:\n",
    "    repub_data.append([tweet.user.screen_name, tweet.full_text])"
   ]
  },
  {
   "cell_type": "code",
   "execution_count": 7,
   "id": "d3d6746e",
   "metadata": {},
   "outputs": [],
   "source": [
    "keywords = '#MAGA'\n",
    "\n",
    "tweets = tweepy.Cursor(api.search_tweets,q = keywords, \n",
    "                        count = 300, \n",
    "                        tweet_mode = 'extended').items()\n",
    "\n",
    "for tweet in tweets:\n",
    "    repub_data.append([keywords,tweet.full_text])"
   ]
  },
  {
   "cell_type": "markdown",
   "id": "08a7ccbb",
   "metadata": {},
   "source": [
    "# Pulling our text data (Democratic)"
   ]
  },
  {
   "cell_type": "code",
   "execution_count": 8,
   "id": "51fe6db1",
   "metadata": {},
   "outputs": [],
   "source": [
    "user = 'AOC'\n",
    "dem_data = []\n",
    "tweets = tweepy.Cursor(api.user_timeline,screen_name = user, \n",
    "                        count = 300, \n",
    "                        tweet_mode = 'extended').items(300)\n",
    "\n",
    "for tweet in tweets:\n",
    "    dem_data.append([tweet.user.screen_name, tweet.full_text])"
   ]
  },
  {
   "cell_type": "code",
   "execution_count": 9,
   "id": "de57f9b7",
   "metadata": {},
   "outputs": [],
   "source": [
    "user = 'potus'\n",
    "\n",
    "tweets = tweepy.Cursor(api.user_timeline,screen_name = user, \n",
    "                        count = 300, \n",
    "                        tweet_mode = 'extended').items(250)\n",
    "\n",
    "for tweet in tweets:\n",
    "    dem_data.append([tweet.user.screen_name, tweet.full_text])"
   ]
  },
  {
   "cell_type": "code",
   "execution_count": 10,
   "id": "354cedc3",
   "metadata": {},
   "outputs": [],
   "source": [
    "user = 'HillaryClinton'\n",
    "\n",
    "tweets = tweepy.Cursor(api.user_timeline,screen_name = user, \n",
    "                        count = 300, \n",
    "                        tweet_mode = 'extended').items()\n",
    "\n",
    "for tweet in tweets:\n",
    "    dem_data.append([tweet.user.screen_name, tweet.full_text])"
   ]
  },
  {
   "cell_type": "code",
   "execution_count": 11,
   "id": "4813e390",
   "metadata": {},
   "outputs": [],
   "source": [
    "keywords = '#Democrat'\n",
    "\n",
    "tweets = tweepy.Cursor(api.search_tweets,q = keywords, \n",
    "                        count = 300, \n",
    "                        tweet_mode = 'extended').items(300)\n",
    "\n",
    "for tweet in tweets:\n",
    "    dem_data.append([keywords,tweet.full_text])"
   ]
  },
  {
   "cell_type": "markdown",
   "id": "bfc0647c",
   "metadata": {},
   "source": [
    "# Building our Republican DF"
   ]
  },
  {
   "cell_type": "code",
   "execution_count": 12,
   "id": "051a47dc",
   "metadata": {},
   "outputs": [],
   "source": [
    "columns = ['User/Keyword', 'Tweets']\n",
    "republican_df = pd.DataFrame(repub_data, columns = columns)"
   ]
  },
  {
   "cell_type": "code",
   "execution_count": 13,
   "id": "6fd30c40",
   "metadata": {},
   "outputs": [
    {
     "data": {
      "text/html": [
       "<div>\n",
       "<style scoped>\n",
       "    .dataframe tbody tr th:only-of-type {\n",
       "        vertical-align: middle;\n",
       "    }\n",
       "\n",
       "    .dataframe tbody tr th {\n",
       "        vertical-align: top;\n",
       "    }\n",
       "\n",
       "    .dataframe thead th {\n",
       "        text-align: right;\n",
       "    }\n",
       "</style>\n",
       "<table border=\"1\" class=\"dataframe\">\n",
       "  <thead>\n",
       "    <tr style=\"text-align: right;\">\n",
       "      <th></th>\n",
       "      <th>User/Keyword</th>\n",
       "      <th>Tweets</th>\n",
       "    </tr>\n",
       "  </thead>\n",
       "  <tbody>\n",
       "    <tr>\n",
       "      <th>0</th>\n",
       "      <td>tedcruz</td>\n",
       "      <td>RT @foxnewspolitics: 'GEORGIA MATTERS': Ted Cr...</td>\n",
       "    </tr>\n",
       "    <tr>\n",
       "      <th>1</th>\n",
       "      <td>tedcruz</td>\n",
       "      <td>RT @RealKyleMorris: Sen. @TedCruz (R-TX): \"If ...</td>\n",
       "    </tr>\n",
       "    <tr>\n",
       "      <th>2</th>\n",
       "      <td>tedcruz</td>\n",
       "      <td>NEW #VERDICT: Senate Moves On Same Sex Marriag...</td>\n",
       "    </tr>\n",
       "    <tr>\n",
       "      <th>3</th>\n",
       "      <td>tedcruz</td>\n",
       "      <td>Democrats pitched the Respect for Marriage Act...</td>\n",
       "    </tr>\n",
       "    <tr>\n",
       "      <th>4</th>\n",
       "      <td>tedcruz</td>\n",
       "      <td>Why isn’t Jeffrey Epstein’s client list public...</td>\n",
       "    </tr>\n",
       "    <tr>\n",
       "      <th>...</th>\n",
       "      <td>...</td>\n",
       "      <td>...</td>\n",
       "    </tr>\n",
       "    <tr>\n",
       "      <th>995</th>\n",
       "      <td>#MAGA</td>\n",
       "      <td>Trump Could Swoop In For A Last-Minute Boost  ...</td>\n",
       "    </tr>\n",
       "    <tr>\n",
       "      <th>996</th>\n",
       "      <td>#MAGA</td>\n",
       "      <td>Buttigieg Ordered To Get Working Or Resign  #M...</td>\n",
       "    </tr>\n",
       "    <tr>\n",
       "      <th>997</th>\n",
       "      <td>#MAGA</td>\n",
       "      <td>This is real and legit, I help people though t...</td>\n",
       "    </tr>\n",
       "    <tr>\n",
       "      <th>998</th>\n",
       "      <td>#MAGA</td>\n",
       "      <td>RT @AMErikaNGIRLLL: New Home Sales Unexpectedl...</td>\n",
       "    </tr>\n",
       "    <tr>\n",
       "      <th>999</th>\n",
       "      <td>#MAGA</td>\n",
       "      <td>Thy #maga neighbor? https://t.co/b7VDhH5AKs</td>\n",
       "    </tr>\n",
       "  </tbody>\n",
       "</table>\n",
       "<p>1000 rows × 2 columns</p>\n",
       "</div>"
      ],
      "text/plain": [
       "    User/Keyword                                             Tweets\n",
       "0        tedcruz  RT @foxnewspolitics: 'GEORGIA MATTERS': Ted Cr...\n",
       "1        tedcruz  RT @RealKyleMorris: Sen. @TedCruz (R-TX): \"If ...\n",
       "2        tedcruz  NEW #VERDICT: Senate Moves On Same Sex Marriag...\n",
       "3        tedcruz  Democrats pitched the Respect for Marriage Act...\n",
       "4        tedcruz  Why isn’t Jeffrey Epstein’s client list public...\n",
       "..           ...                                                ...\n",
       "995        #MAGA  Trump Could Swoop In For A Last-Minute Boost  ...\n",
       "996        #MAGA  Buttigieg Ordered To Get Working Or Resign  #M...\n",
       "997        #MAGA  This is real and legit, I help people though t...\n",
       "998        #MAGA  RT @AMErikaNGIRLLL: New Home Sales Unexpectedl...\n",
       "999        #MAGA        Thy #maga neighbor? https://t.co/b7VDhH5AKs\n",
       "\n",
       "[1000 rows x 2 columns]"
      ]
     },
     "execution_count": 13,
     "metadata": {},
     "output_type": "execute_result"
    }
   ],
   "source": [
    "republican_df"
   ]
  },
  {
   "cell_type": "markdown",
   "id": "133dca53",
   "metadata": {},
   "source": [
    "# Building our Democratic DF"
   ]
  },
  {
   "cell_type": "code",
   "execution_count": 14,
   "id": "b0f8cc4b",
   "metadata": {},
   "outputs": [],
   "source": [
    "columns = ['User/Keyword', 'Tweets']\n",
    "democratic_df = pd.DataFrame(dem_data, columns = columns)"
   ]
  },
  {
   "cell_type": "code",
   "execution_count": 15,
   "id": "6721810e",
   "metadata": {},
   "outputs": [
    {
     "data": {
      "text/html": [
       "<div>\n",
       "<style scoped>\n",
       "    .dataframe tbody tr th:only-of-type {\n",
       "        vertical-align: middle;\n",
       "    }\n",
       "\n",
       "    .dataframe tbody tr th {\n",
       "        vertical-align: top;\n",
       "    }\n",
       "\n",
       "    .dataframe thead th {\n",
       "        text-align: right;\n",
       "    }\n",
       "</style>\n",
       "<table border=\"1\" class=\"dataframe\">\n",
       "  <thead>\n",
       "    <tr style=\"text-align: right;\">\n",
       "      <th></th>\n",
       "      <th>User/Keyword</th>\n",
       "      <th>Tweets</th>\n",
       "    </tr>\n",
       "  </thead>\n",
       "  <tbody>\n",
       "    <tr>\n",
       "      <th>0</th>\n",
       "      <td>AOC</td>\n",
       "      <td>RT @HuffPostPol: Rep. Alexandria Ocasio-Cortez...</td>\n",
       "    </tr>\n",
       "    <tr>\n",
       "      <th>1</th>\n",
       "      <td>AOC</td>\n",
       "      <td>RT @lisatozzi: “It’s affecting our culture if ...</td>\n",
       "    </tr>\n",
       "    <tr>\n",
       "      <th>2</th>\n",
       "      <td>AOC</td>\n",
       "      <td>RT @POTUS: I'm confident that our student debt...</td>\n",
       "    </tr>\n",
       "    <tr>\n",
       "      <th>3</th>\n",
       "      <td>AOC</td>\n",
       "      <td>RT @RollingStone: In an interview with Rolling...</td>\n",
       "    </tr>\n",
       "    <tr>\n",
       "      <th>4</th>\n",
       "      <td>AOC</td>\n",
       "      <td>After Trump elevated anti-immigrant &amp;amp; anti...</td>\n",
       "    </tr>\n",
       "    <tr>\n",
       "      <th>...</th>\n",
       "      <td>...</td>\n",
       "      <td>...</td>\n",
       "    </tr>\n",
       "    <tr>\n",
       "      <th>995</th>\n",
       "      <td>#Democrat</td>\n",
       "      <td>Steve Bannon and the war room #Democrat #Free-...</td>\n",
       "    </tr>\n",
       "    <tr>\n",
       "      <th>996</th>\n",
       "      <td>#Democrat</td>\n",
       "      <td>RT @MPWeirdoPodcast: 📣 New Podcast! \"Mini Pixi...</td>\n",
       "    </tr>\n",
       "    <tr>\n",
       "      <th>997</th>\n",
       "      <td>#Democrat</td>\n",
       "      <td>@ewarren Pure #Democrat bs.</td>\n",
       "    </tr>\n",
       "    <tr>\n",
       "      <th>998</th>\n",
       "      <td>#Democrat</td>\n",
       "      <td>Because at this point #Democrat fanboys'll bel...</td>\n",
       "    </tr>\n",
       "    <tr>\n",
       "      <th>999</th>\n",
       "      <td>#Democrat</td>\n",
       "      <td>RT @arabnews: #FranklySpeaking: Former Envoy t...</td>\n",
       "    </tr>\n",
       "  </tbody>\n",
       "</table>\n",
       "<p>1000 rows × 2 columns</p>\n",
       "</div>"
      ],
      "text/plain": [
       "    User/Keyword                                             Tweets\n",
       "0            AOC  RT @HuffPostPol: Rep. Alexandria Ocasio-Cortez...\n",
       "1            AOC  RT @lisatozzi: “It’s affecting our culture if ...\n",
       "2            AOC  RT @POTUS: I'm confident that our student debt...\n",
       "3            AOC  RT @RollingStone: In an interview with Rolling...\n",
       "4            AOC  After Trump elevated anti-immigrant &amp; anti...\n",
       "..           ...                                                ...\n",
       "995    #Democrat  Steve Bannon and the war room #Democrat #Free-...\n",
       "996    #Democrat  RT @MPWeirdoPodcast: 📣 New Podcast! \"Mini Pixi...\n",
       "997    #Democrat                        @ewarren Pure #Democrat bs.\n",
       "998    #Democrat  Because at this point #Democrat fanboys'll bel...\n",
       "999    #Democrat  RT @arabnews: #FranklySpeaking: Former Envoy t...\n",
       "\n",
       "[1000 rows x 2 columns]"
      ]
     },
     "execution_count": 15,
     "metadata": {},
     "output_type": "execute_result"
    }
   ],
   "source": [
    "democratic_df"
   ]
  },
  {
   "cell_type": "markdown",
   "id": "7f289cd0",
   "metadata": {},
   "source": [
    "# Cleaning Tweets for Analysis"
   ]
  },
  {
   "cell_type": "code",
   "execution_count": 16,
   "id": "9114e98b",
   "metadata": {},
   "outputs": [],
   "source": [
    "punct_set = punctuation"
   ]
  },
  {
   "cell_type": "code",
   "execution_count": 17,
   "id": "fc4fbd49",
   "metadata": {},
   "outputs": [],
   "source": [
    "repub_names = ['ted', 'cruz', 'tedcruz', 'mtgreene', 'lauren','boebert']"
   ]
  },
  {
   "cell_type": "code",
   "execution_count": 18,
   "id": "43da2956",
   "metadata": {},
   "outputs": [],
   "source": [
    "#First let's make both our lists long strings\n",
    "\n",
    "repub_data_list= [','.join(w) for w in repub_data]\n",
    "\n",
    "#This gives us a long string of text\n",
    "repub_data_string = ''.join(repub_data_list)\n",
    "\n",
    "#this tokenizes our tweet data\n",
    "repub_data_tokenized_string = [w.lower() for w in repub_data_string.split() if w not in repub_names and w not in sw and w.isalpha() and w not in punct_set]\n"
   ]
  },
  {
   "cell_type": "code",
   "execution_count": 51,
   "id": "ddc2c5c5",
   "metadata": {},
   "outputs": [],
   "source": [
    "#repub_data_string\n",
    "#repub_data_tokenized_string"
   ]
  },
  {
   "cell_type": "code",
   "execution_count": 20,
   "id": "2f83e1a4",
   "metadata": {},
   "outputs": [],
   "source": [
    "dem_names = ['AOC', 'POTUS', 'HillaryClinton']"
   ]
  },
  {
   "cell_type": "code",
   "execution_count": 21,
   "id": "5f3ee0d2",
   "metadata": {},
   "outputs": [],
   "source": [
    "#First let's make both our lists long strings\n",
    "\n",
    "dem_data_list= [','.join(w) for w in dem_data]\n",
    "\n",
    "#This gives us a long string of text\n",
    "dem_data_string = ''.join(dem_data_list)\n",
    "\n",
    "#this tokenizes our tweet data\n",
    "dem_data_tokenized_string = [w.lower() for w in dem_data_string.split() if w not in dem_names and w not in sw and w.isalpha() and w not in punct_set]"
   ]
  },
  {
   "cell_type": "code",
   "execution_count": 22,
   "id": "fb8d5d70",
   "metadata": {},
   "outputs": [],
   "source": [
    "#dem_data_string\n",
    "#dem_data_tokenized_string"
   ]
  },
  {
   "cell_type": "markdown",
   "id": "43720c81",
   "metadata": {},
   "source": [
    "# Analysis 1: Most Popular Words"
   ]
  },
  {
   "cell_type": "code",
   "execution_count": 50,
   "id": "bd841b34",
   "metadata": {},
   "outputs": [],
   "source": [
    "import matplotlib.pyplot as plt; plt.rcdefaults()\n",
    "import numpy as np\n",
    "import matplotlib.pyplot as plt\n",
    "import seaborn as sns"
   ]
  },
  {
   "cell_type": "code",
   "execution_count": 51,
   "id": "ba0f44fa",
   "metadata": {},
   "outputs": [],
   "source": [
    "repub_freqdist = FreqDist()\n",
    "\n",
    "for word in repub_data_tokenized_string:\n",
    "    repub_freqdist[word]+=1  "
   ]
  },
  {
   "cell_type": "code",
   "execution_count": 52,
   "id": "41430633",
   "metadata": {},
   "outputs": [],
   "source": [
    "repub_top_words = repub_freqdist.most_common(20) "
   ]
  },
  {
   "cell_type": "code",
   "execution_count": 57,
   "id": "fff534ac",
   "metadata": {},
   "outputs": [],
   "source": [
    "columns = ['word', 'count']\n",
    "\n",
    "repub_words_df = pd.DataFrame(repub_top_words,columns = columns) "
   ]
  },
  {
   "cell_type": "code",
   "execution_count": 58,
   "id": "555a8b84",
   "metadata": {
    "scrolled": true
   },
   "outputs": [
    {
     "name": "stderr",
     "output_type": "stream",
     "text": [
      "C:\\Users\\ofano\\anaconda3\\lib\\site-packages\\seaborn\\_decorators.py:36: FutureWarning: Pass the following variables as keyword args: x, y. From version 0.12, the only valid positional argument will be `data`, and passing other arguments without an explicit keyword will result in an error or misinterpretation.\n",
      "  warnings.warn(\n"
     ]
    },
    {
     "ename": "ValueError",
     "evalue": "Buffer has wrong number of dimensions (expected 1, got 2)",
     "output_type": "error",
     "traceback": [
      "\u001b[1;31m---------------------------------------------------------------------------\u001b[0m",
      "\u001b[1;31mAttributeError\u001b[0m                            Traceback (most recent call last)",
      "File \u001b[1;32m~\\anaconda3\\lib\\site-packages\\seaborn\\_core.py:1479\u001b[0m, in \u001b[0;36mcategorical_order\u001b[1;34m(vector, order)\u001b[0m\n\u001b[0;32m   1478\u001b[0m \u001b[38;5;28;01mtry\u001b[39;00m:\n\u001b[1;32m-> 1479\u001b[0m     order \u001b[38;5;241m=\u001b[39m \u001b[43mvector\u001b[49m\u001b[38;5;241;43m.\u001b[39;49m\u001b[43mcat\u001b[49m\u001b[38;5;241m.\u001b[39mcategories\n\u001b[0;32m   1480\u001b[0m \u001b[38;5;28;01mexcept\u001b[39;00m (\u001b[38;5;167;01mTypeError\u001b[39;00m, \u001b[38;5;167;01mAttributeError\u001b[39;00m):\n",
      "\u001b[1;31mAttributeError\u001b[0m: 'numpy.ndarray' object has no attribute 'cat'",
      "\nDuring handling of the above exception, another exception occurred:\n",
      "\u001b[1;31mAttributeError\u001b[0m                            Traceback (most recent call last)",
      "File \u001b[1;32m~\\anaconda3\\lib\\site-packages\\seaborn\\_core.py:1483\u001b[0m, in \u001b[0;36mcategorical_order\u001b[1;34m(vector, order)\u001b[0m\n\u001b[0;32m   1482\u001b[0m \u001b[38;5;28;01mtry\u001b[39;00m:\n\u001b[1;32m-> 1483\u001b[0m     order \u001b[38;5;241m=\u001b[39m \u001b[43mvector\u001b[49m\u001b[38;5;241;43m.\u001b[39;49m\u001b[43munique\u001b[49m()\n\u001b[0;32m   1484\u001b[0m \u001b[38;5;28;01mexcept\u001b[39;00m \u001b[38;5;167;01mAttributeError\u001b[39;00m:\n",
      "\u001b[1;31mAttributeError\u001b[0m: 'numpy.ndarray' object has no attribute 'unique'",
      "\nDuring handling of the above exception, another exception occurred:\n",
      "\u001b[1;31mValueError\u001b[0m                                Traceback (most recent call last)",
      "Input \u001b[1;32mIn [58]\u001b[0m, in \u001b[0;36m<cell line: 3>\u001b[1;34m()\u001b[0m\n\u001b[0;32m      1\u001b[0m df \u001b[38;5;241m=\u001b[39m repub_words_df\n\u001b[0;32m      2\u001b[0m plt\u001b[38;5;241m.\u001b[39mfigure(figsize\u001b[38;5;241m=\u001b[39m(\u001b[38;5;241m10\u001b[39m,\u001b[38;5;241m5\u001b[39m))\n\u001b[1;32m----> 3\u001b[0m \u001b[43msns\u001b[49m\u001b[38;5;241;43m.\u001b[39;49m\u001b[43mbarplot\u001b[49m\u001b[43m(\u001b[49m\u001b[43mdf\u001b[49m\u001b[38;5;241;43m.\u001b[39;49m\u001b[43mvalues\u001b[49m\u001b[43m,\u001b[49m\u001b[43m \u001b[49m\u001b[43mdf\u001b[49m\u001b[38;5;241;43m.\u001b[39;49m\u001b[43mindex\u001b[49m\u001b[43m,\u001b[49m\u001b[43m \u001b[49m\u001b[43malpha\u001b[49m\u001b[38;5;241;43m=\u001b[39;49m\u001b[38;5;241;43m0.8\u001b[39;49m\u001b[43m)\u001b[49m\n\u001b[0;32m      4\u001b[0m plt\u001b[38;5;241m.\u001b[39mtitle(\u001b[38;5;124m'\u001b[39m\u001b[38;5;124mMost Popular Words: Republican\u001b[39m\u001b[38;5;124m'\u001b[39m)\n\u001b[0;32m      5\u001b[0m plt\u001b[38;5;241m.\u001b[39mylabel(\u001b[38;5;124m'\u001b[39m\u001b[38;5;124mWords from Tweets\u001b[39m\u001b[38;5;124m'\u001b[39m, fontsize\u001b[38;5;241m=\u001b[39m\u001b[38;5;241m12\u001b[39m)\n",
      "File \u001b[1;32m~\\anaconda3\\lib\\site-packages\\seaborn\\_decorators.py:46\u001b[0m, in \u001b[0;36m_deprecate_positional_args.<locals>.inner_f\u001b[1;34m(*args, **kwargs)\u001b[0m\n\u001b[0;32m     36\u001b[0m     warnings\u001b[38;5;241m.\u001b[39mwarn(\n\u001b[0;32m     37\u001b[0m         \u001b[38;5;124m\"\u001b[39m\u001b[38;5;124mPass the following variable\u001b[39m\u001b[38;5;132;01m{}\u001b[39;00m\u001b[38;5;124m as \u001b[39m\u001b[38;5;132;01m{}\u001b[39;00m\u001b[38;5;124mkeyword arg\u001b[39m\u001b[38;5;132;01m{}\u001b[39;00m\u001b[38;5;124m: \u001b[39m\u001b[38;5;132;01m{}\u001b[39;00m\u001b[38;5;124m. \u001b[39m\u001b[38;5;124m\"\u001b[39m\n\u001b[0;32m     38\u001b[0m         \u001b[38;5;124m\"\u001b[39m\u001b[38;5;124mFrom version 0.12, the only valid positional argument \u001b[39m\u001b[38;5;124m\"\u001b[39m\n\u001b[1;32m   (...)\u001b[0m\n\u001b[0;32m     43\u001b[0m         \u001b[38;5;167;01mFutureWarning\u001b[39;00m\n\u001b[0;32m     44\u001b[0m     )\n\u001b[0;32m     45\u001b[0m kwargs\u001b[38;5;241m.\u001b[39mupdate({k: arg \u001b[38;5;28;01mfor\u001b[39;00m k, arg \u001b[38;5;129;01min\u001b[39;00m \u001b[38;5;28mzip\u001b[39m(sig\u001b[38;5;241m.\u001b[39mparameters, args)})\n\u001b[1;32m---> 46\u001b[0m \u001b[38;5;28;01mreturn\u001b[39;00m f(\u001b[38;5;241m*\u001b[39m\u001b[38;5;241m*\u001b[39mkwargs)\n",
      "File \u001b[1;32m~\\anaconda3\\lib\\site-packages\\seaborn\\categorical.py:3182\u001b[0m, in \u001b[0;36mbarplot\u001b[1;34m(x, y, hue, data, order, hue_order, estimator, ci, n_boot, units, seed, orient, color, palette, saturation, errcolor, errwidth, capsize, dodge, ax, **kwargs)\u001b[0m\n\u001b[0;32m   3169\u001b[0m \u001b[38;5;129m@_deprecate_positional_args\u001b[39m\n\u001b[0;32m   3170\u001b[0m \u001b[38;5;28;01mdef\u001b[39;00m \u001b[38;5;21mbarplot\u001b[39m(\n\u001b[0;32m   3171\u001b[0m     \u001b[38;5;241m*\u001b[39m,\n\u001b[1;32m   (...)\u001b[0m\n\u001b[0;32m   3179\u001b[0m     \u001b[38;5;241m*\u001b[39m\u001b[38;5;241m*\u001b[39mkwargs,\n\u001b[0;32m   3180\u001b[0m ):\n\u001b[1;32m-> 3182\u001b[0m     plotter \u001b[38;5;241m=\u001b[39m \u001b[43m_BarPlotter\u001b[49m\u001b[43m(\u001b[49m\u001b[43mx\u001b[49m\u001b[43m,\u001b[49m\u001b[43m \u001b[49m\u001b[43my\u001b[49m\u001b[43m,\u001b[49m\u001b[43m \u001b[49m\u001b[43mhue\u001b[49m\u001b[43m,\u001b[49m\u001b[43m \u001b[49m\u001b[43mdata\u001b[49m\u001b[43m,\u001b[49m\u001b[43m \u001b[49m\u001b[43morder\u001b[49m\u001b[43m,\u001b[49m\u001b[43m \u001b[49m\u001b[43mhue_order\u001b[49m\u001b[43m,\u001b[49m\n\u001b[0;32m   3183\u001b[0m \u001b[43m                          \u001b[49m\u001b[43mestimator\u001b[49m\u001b[43m,\u001b[49m\u001b[43m \u001b[49m\u001b[43mci\u001b[49m\u001b[43m,\u001b[49m\u001b[43m \u001b[49m\u001b[43mn_boot\u001b[49m\u001b[43m,\u001b[49m\u001b[43m \u001b[49m\u001b[43munits\u001b[49m\u001b[43m,\u001b[49m\u001b[43m \u001b[49m\u001b[43mseed\u001b[49m\u001b[43m,\u001b[49m\n\u001b[0;32m   3184\u001b[0m \u001b[43m                          \u001b[49m\u001b[43morient\u001b[49m\u001b[43m,\u001b[49m\u001b[43m \u001b[49m\u001b[43mcolor\u001b[49m\u001b[43m,\u001b[49m\u001b[43m \u001b[49m\u001b[43mpalette\u001b[49m\u001b[43m,\u001b[49m\u001b[43m \u001b[49m\u001b[43msaturation\u001b[49m\u001b[43m,\u001b[49m\n\u001b[0;32m   3185\u001b[0m \u001b[43m                          \u001b[49m\u001b[43merrcolor\u001b[49m\u001b[43m,\u001b[49m\u001b[43m \u001b[49m\u001b[43merrwidth\u001b[49m\u001b[43m,\u001b[49m\u001b[43m \u001b[49m\u001b[43mcapsize\u001b[49m\u001b[43m,\u001b[49m\u001b[43m \u001b[49m\u001b[43mdodge\u001b[49m\u001b[43m)\u001b[49m\n\u001b[0;32m   3187\u001b[0m     \u001b[38;5;28;01mif\u001b[39;00m ax \u001b[38;5;129;01mis\u001b[39;00m \u001b[38;5;28;01mNone\u001b[39;00m:\n\u001b[0;32m   3188\u001b[0m         ax \u001b[38;5;241m=\u001b[39m plt\u001b[38;5;241m.\u001b[39mgca()\n",
      "File \u001b[1;32m~\\anaconda3\\lib\\site-packages\\seaborn\\categorical.py:1584\u001b[0m, in \u001b[0;36m_BarPlotter.__init__\u001b[1;34m(self, x, y, hue, data, order, hue_order, estimator, ci, n_boot, units, seed, orient, color, palette, saturation, errcolor, errwidth, capsize, dodge)\u001b[0m\n\u001b[0;32m   1579\u001b[0m \u001b[38;5;28;01mdef\u001b[39;00m \u001b[38;5;21m__init__\u001b[39m(\u001b[38;5;28mself\u001b[39m, x, y, hue, data, order, hue_order,\n\u001b[0;32m   1580\u001b[0m              estimator, ci, n_boot, units, seed,\n\u001b[0;32m   1581\u001b[0m              orient, color, palette, saturation, errcolor,\n\u001b[0;32m   1582\u001b[0m              errwidth, capsize, dodge):\n\u001b[0;32m   1583\u001b[0m     \u001b[38;5;124;03m\"\"\"Initialize the plotter.\"\"\"\u001b[39;00m\n\u001b[1;32m-> 1584\u001b[0m     \u001b[38;5;28;43mself\u001b[39;49m\u001b[38;5;241;43m.\u001b[39;49m\u001b[43mestablish_variables\u001b[49m\u001b[43m(\u001b[49m\u001b[43mx\u001b[49m\u001b[43m,\u001b[49m\u001b[43m \u001b[49m\u001b[43my\u001b[49m\u001b[43m,\u001b[49m\u001b[43m \u001b[49m\u001b[43mhue\u001b[49m\u001b[43m,\u001b[49m\u001b[43m \u001b[49m\u001b[43mdata\u001b[49m\u001b[43m,\u001b[49m\u001b[43m \u001b[49m\u001b[43morient\u001b[49m\u001b[43m,\u001b[49m\n\u001b[0;32m   1585\u001b[0m \u001b[43m                             \u001b[49m\u001b[43morder\u001b[49m\u001b[43m,\u001b[49m\u001b[43m \u001b[49m\u001b[43mhue_order\u001b[49m\u001b[43m,\u001b[49m\u001b[43m \u001b[49m\u001b[43munits\u001b[49m\u001b[43m)\u001b[49m\n\u001b[0;32m   1586\u001b[0m     \u001b[38;5;28mself\u001b[39m\u001b[38;5;241m.\u001b[39mestablish_colors(color, palette, saturation)\n\u001b[0;32m   1587\u001b[0m     \u001b[38;5;28mself\u001b[39m\u001b[38;5;241m.\u001b[39mestimate_statistic(estimator, ci, n_boot, seed)\n",
      "File \u001b[1;32m~\\anaconda3\\lib\\site-packages\\seaborn\\categorical.py:203\u001b[0m, in \u001b[0;36m_CategoricalPlotter.establish_variables\u001b[1;34m(self, x, y, hue, data, orient, order, hue_order, units)\u001b[0m\n\u001b[0;32m    200\u001b[0m     group_label \u001b[38;5;241m=\u001b[39m groups\u001b[38;5;241m.\u001b[39mname\n\u001b[0;32m    202\u001b[0m \u001b[38;5;66;03m# Get the order on the categorical axis\u001b[39;00m\n\u001b[1;32m--> 203\u001b[0m group_names \u001b[38;5;241m=\u001b[39m \u001b[43mcategorical_order\u001b[49m\u001b[43m(\u001b[49m\u001b[43mgroups\u001b[49m\u001b[43m,\u001b[49m\u001b[43m \u001b[49m\u001b[43morder\u001b[49m\u001b[43m)\u001b[49m\n\u001b[0;32m    205\u001b[0m \u001b[38;5;66;03m# Group the numeric data\u001b[39;00m\n\u001b[0;32m    206\u001b[0m plot_data, value_label \u001b[38;5;241m=\u001b[39m \u001b[38;5;28mself\u001b[39m\u001b[38;5;241m.\u001b[39m_group_longform(vals, groups,\n\u001b[0;32m    207\u001b[0m                                               group_names)\n",
      "File \u001b[1;32m~\\anaconda3\\lib\\site-packages\\seaborn\\_core.py:1485\u001b[0m, in \u001b[0;36mcategorical_order\u001b[1;34m(vector, order)\u001b[0m\n\u001b[0;32m   1483\u001b[0m     order \u001b[38;5;241m=\u001b[39m vector\u001b[38;5;241m.\u001b[39munique()\n\u001b[0;32m   1484\u001b[0m \u001b[38;5;28;01mexcept\u001b[39;00m \u001b[38;5;167;01mAttributeError\u001b[39;00m:\n\u001b[1;32m-> 1485\u001b[0m     order \u001b[38;5;241m=\u001b[39m \u001b[43mpd\u001b[49m\u001b[38;5;241;43m.\u001b[39;49m\u001b[43munique\u001b[49m\u001b[43m(\u001b[49m\u001b[43mvector\u001b[49m\u001b[43m)\u001b[49m\n\u001b[0;32m   1487\u001b[0m \u001b[38;5;28;01mif\u001b[39;00m variable_type(vector) \u001b[38;5;241m==\u001b[39m \u001b[38;5;124m\"\u001b[39m\u001b[38;5;124mnumeric\u001b[39m\u001b[38;5;124m\"\u001b[39m:\n\u001b[0;32m   1488\u001b[0m     order \u001b[38;5;241m=\u001b[39m np\u001b[38;5;241m.\u001b[39msort(order)\n",
      "File \u001b[1;32m~\\anaconda3\\lib\\site-packages\\pandas\\core\\algorithms.py:440\u001b[0m, in \u001b[0;36munique\u001b[1;34m(values)\u001b[0m\n\u001b[0;32m    437\u001b[0m htable, values \u001b[38;5;241m=\u001b[39m _get_hashtable_algo(values)\n\u001b[0;32m    439\u001b[0m table \u001b[38;5;241m=\u001b[39m htable(\u001b[38;5;28mlen\u001b[39m(values))\n\u001b[1;32m--> 440\u001b[0m uniques \u001b[38;5;241m=\u001b[39m \u001b[43mtable\u001b[49m\u001b[38;5;241;43m.\u001b[39;49m\u001b[43munique\u001b[49m\u001b[43m(\u001b[49m\u001b[43mvalues\u001b[49m\u001b[43m)\u001b[49m\n\u001b[0;32m    441\u001b[0m uniques \u001b[38;5;241m=\u001b[39m _reconstruct_data(uniques, original\u001b[38;5;241m.\u001b[39mdtype, original)\n\u001b[0;32m    442\u001b[0m \u001b[38;5;28;01mreturn\u001b[39;00m uniques\n",
      "File \u001b[1;32mpandas\\_libs\\hashtable_class_helper.pxi:5341\u001b[0m, in \u001b[0;36mpandas._libs.hashtable.PyObjectHashTable.unique\u001b[1;34m()\u001b[0m\n",
      "\u001b[1;31mValueError\u001b[0m: Buffer has wrong number of dimensions (expected 1, got 2)"
     ]
    },
    {
     "data": {
      "text/plain": [
       "<Figure size 1000x500 with 0 Axes>"
      ]
     },
     "metadata": {},
     "output_type": "display_data"
    }
   ],
   "source": [
    "df = repub_words_df\n",
    "plt.figure(figsize=(10,5))\n",
    "sns.barplot(df.values, df.index, alpha=0.8)\n",
    "plt.title('Most Popular Words: Republican')\n",
    "plt.ylabel('Words from Tweets', fontsize=12)\n",
    "plt.xlabel('Word Count', fontsize=12)\n",
    "plt.show()"
   ]
  },
  {
   "cell_type": "markdown",
   "id": "a4e71611",
   "metadata": {},
   "source": [
    "# Analysis 2: Text Patterns"
   ]
  },
  {
   "cell_type": "markdown",
   "id": "2dcedd8e",
   "metadata": {},
   "source": [
    "First lets add our Text Patterns function"
   ]
  },
  {
   "cell_type": "code",
   "execution_count": 23,
   "id": "a207462b",
   "metadata": {},
   "outputs": [],
   "source": [
    "def get_patterns(text)  :\n",
    "    \"\"\"\n",
    "        This function takes text as an input and returns a dictionary of statistics,\n",
    "        after cleaning the text. \n",
    "    \n",
    "    \"\"\"\n",
    "    \n",
    "    # We'll make things a big clearer by initializing the \n",
    "    # statistics here. These are placeholder values.\n",
    "    total_tokens = 0\n",
    "    unique_tokens = 0\n",
    "    avg_token_len = 0.0\n",
    "    lex_diversity = 0.0\n",
    "    top_10 = Counter()\n",
    "    \n",
    "    # Do your tokenization and normalization here\n",
    "    \n",
    "    text = [w.lower() for w in text.split() if w.lower() not in sw and w.isalpha()]\n",
    "    \n",
    "    \n",
    "    \n",
    "    # Calculate your statistics here\n",
    "    total_tokens = len(text)\n",
    "    unique_tokens = len(set(text))\n",
    "    avg_token_len = sum(len(w) for w in text) / len(text)\n",
    "    lex_diversity = unique_tokens/total_tokens\n",
    "    text_count= Counter(text)\n",
    "    top_10 = text_count.most_common(10)\n",
    "    \n",
    "    \n",
    "    # Now we'll fill out the dictionary. \n",
    "    \n",
    "    results = {'tokens':total_tokens,\n",
    "               'unique_tokens':unique_tokens,\n",
    "               'avg_token_length':avg_token_len,\n",
    "               'lexical_diversity':lex_diversity,\n",
    "               'top_10':top_10}\n",
    "\n",
    "    return(results)\n"
   ]
  },
  {
   "cell_type": "markdown",
   "id": "e39b1a50",
   "metadata": {},
   "source": [
    "# Republican Results"
   ]
  },
  {
   "cell_type": "code",
   "execution_count": 24,
   "id": "0c2a3dfa",
   "metadata": {},
   "outputs": [
    {
     "data": {
      "text/plain": [
       "{'tokens': 9466,\n",
       " 'unique_tokens': 3144,\n",
       " 'avg_token_length': 6.008662581871963,\n",
       " 'lexical_diversity': 0.3321360659201352,\n",
       " 'top_10': [('people', 110),\n",
       "  ('biden', 78),\n",
       "  ('democrats', 56),\n",
       "  ('get', 49),\n",
       "  ('trump', 45),\n",
       "  ('time', 43),\n",
       "  ('vote', 40),\n",
       "  ('want', 39),\n",
       "  ('us', 38),\n",
       "  ('one', 37)]}"
      ]
     },
     "execution_count": 24,
     "metadata": {},
     "output_type": "execute_result"
    }
   ],
   "source": [
    "get_patterns(repub_data_string)"
   ]
  },
  {
   "cell_type": "markdown",
   "id": "6912d432",
   "metadata": {},
   "source": [
    "# Democratic Results"
   ]
  },
  {
   "cell_type": "code",
   "execution_count": 25,
   "id": "de6fdf02",
   "metadata": {},
   "outputs": [
    {
     "data": {
      "text/plain": [
       "{'tokens': 9476,\n",
       " 'unique_tokens': 3196,\n",
       " 'avg_token_length': 6.173490924440692,\n",
       " 'lexical_diversity': 0.3372731110173069,\n",
       " 'top_10': [('people', 67),\n",
       "  ('one', 57),\n",
       "  ('get', 54),\n",
       "  ('every', 52),\n",
       "  ('new', 51),\n",
       "  ('women', 50),\n",
       "  ('us', 41),\n",
       "  ('make', 40),\n",
       "  ('last', 37),\n",
       "  ('help', 37)]}"
      ]
     },
     "execution_count": 25,
     "metadata": {},
     "output_type": "execute_result"
    }
   ],
   "source": [
    "get_patterns(dem_data_string)"
   ]
  },
  {
   "cell_type": "markdown",
   "id": "99087ca3",
   "metadata": {},
   "source": [
    "# Analysis 3: Parsing"
   ]
  },
  {
   "cell_type": "markdown",
   "id": "a9aacaa9",
   "metadata": {},
   "source": [
    "First let's import our spacy package"
   ]
  },
  {
   "cell_type": "code",
   "execution_count": 26,
   "id": "23d37fab",
   "metadata": {},
   "outputs": [],
   "source": [
    "import sqlite3\n",
    "import spacy\n",
    "from subject_object_extraction import findSVOs"
   ]
  },
  {
   "cell_type": "code",
   "execution_count": 27,
   "id": "10c31039",
   "metadata": {},
   "outputs": [],
   "source": [
    "## now let's set up our parser\n",
    "parser = spacy.load('en_core_web_sm')"
   ]
  },
  {
   "cell_type": "markdown",
   "id": "28bd92c8",
   "metadata": {},
   "source": [
    "# Republican Parsing"
   ]
  },
  {
   "cell_type": "code",
   "execution_count": 68,
   "id": "bdf722a6",
   "metadata": {},
   "outputs": [],
   "source": [
    "republican_string = [w for w in repub_data_string if w.isalpha and w not in punct_set]\n",
    "republican_string = ''.join(republican_string)"
   ]
  },
  {
   "cell_type": "code",
   "execution_count": 70,
   "id": "f104bfbd",
   "metadata": {},
   "outputs": [],
   "source": [
    "republican_string = parser(republican_string)"
   ]
  },
  {
   "cell_type": "code",
   "execution_count": 71,
   "id": "35489629",
   "metadata": {},
   "outputs": [],
   "source": [
    "republican_svos = (findSVOs(republican_string))"
   ]
  },
  {
   "cell_type": "code",
   "execution_count": 72,
   "id": "2054e108",
   "metadata": {},
   "outputs": [],
   "source": [
    "count_republican = Counter(republican_svos)"
   ]
  },
  {
   "cell_type": "markdown",
   "id": "bde94e2f",
   "metadata": {},
   "source": [
    "# Republican Results: Most Common 20 SVOS"
   ]
  },
  {
   "cell_type": "code",
   "execution_count": 73,
   "id": "3a419924",
   "metadata": {},
   "outputs": [
    {
     "data": {
      "text/plain": [
       "[(('gops', 'talking', 'foxnewspolitics'), 12),\n",
       " (('i', 'pity', 'amp'), 9),\n",
       " (('i', 'pity', 'choices'), 9),\n",
       " (('research', 'responding', 'relatives'), 9),\n",
       " (('maga', 'trolls', '😂'), 7),\n",
       " (('research', 'responding', 'thanksgiving'), 7),\n",
       " (('nolietees', 'talking', 'foxnewspolitics'), 5),\n",
       " (('it', '’s', 'time'), 4),\n",
       " (('sickness', 'took', 'home'), 4),\n",
       " (('sickness', 'took', 'weeks'), 4),\n",
       " (('man', 'go', 'millions'), 4),\n",
       " (('verdict', 'listen', 'pod'), 3),\n",
       " (('i', 'told', 'trump'), 3),\n",
       " (('life', 'saving', 'treatments'), 3),\n",
       " (('order', 'switch', 'americans'), 3),\n",
       " (('they', 'called', 'you'), 3),\n",
       " (('magart', 'nolietees', 'gops'), 3),\n",
       " (('biden', 'give', 'to'), 2),\n",
       " (('tedcruzby', 'prosecute', 'predecessor'), 2),\n",
       " (('i', 'discuss', 'verdict'), 2)]"
      ]
     },
     "execution_count": 73,
     "metadata": {},
     "output_type": "execute_result"
    }
   ],
   "source": [
    "count_republican.most_common(20)"
   ]
  },
  {
   "cell_type": "markdown",
   "id": "372867d4",
   "metadata": {},
   "source": [
    "# Democratic Parsing"
   ]
  },
  {
   "cell_type": "code",
   "execution_count": 79,
   "id": "e2ff46dc",
   "metadata": {},
   "outputs": [],
   "source": [
    "democratic_string = [w for w in dem_data_string if w.isalpha and w not in punct_set]\n",
    "democratic_string = ''.join(democratic_string)"
   ]
  },
  {
   "cell_type": "code",
   "execution_count": 80,
   "id": "7556fb13",
   "metadata": {},
   "outputs": [],
   "source": [
    "democratic_string = parser(dem_data_string)"
   ]
  },
  {
   "cell_type": "code",
   "execution_count": 81,
   "id": "c7b1e4a4",
   "metadata": {},
   "outputs": [],
   "source": [
    "democratic_svos = (findSVOs(democratic_string))"
   ]
  },
  {
   "cell_type": "code",
   "execution_count": 82,
   "id": "d4246261",
   "metadata": {},
   "outputs": [],
   "source": [
    "count_democratic = Counter(democratic_svos)"
   ]
  },
  {
   "cell_type": "markdown",
   "id": "08a2a355",
   "metadata": {},
   "source": [
    "# Democratic Results: Most Common 20 SVOS"
   ]
  },
  {
   "cell_type": "code",
   "execution_count": 83,
   "id": "c3cd3e36",
   "metadata": {},
   "outputs": [
    {
     "data": {
      "text/plain": [
       "[(('there', '!is', 'information'), 9),\n",
       " (('i', 'deliver', 'remarks'), 8),\n",
       " (('democrats', 'denied', 'election'), 7),\n",
       " (('republicans', 'blocking', 'bill'), 7),\n",
       " (('#', 'grooming', 'republicansarethegroomer'), 7),\n",
       " (('politicians', 'screaming', 'ar15s'), 6),\n",
       " (('it', '’s', 'time'), 5),\n",
       " (('#', 'grooming', '#democrat'), 5),\n",
       " (('biden', 'did', 'anything'), 5),\n",
       " (('democrats', 'care', 'him'), 5),\n",
       " (('you', 'have', 'chance'), 4),\n",
       " (('i', 'signed', 'law'), 4),\n",
       " (('trump', 'dumped', '#'), 4),\n",
       " (('trump', 'dumped', 'trumpisguilty'), 4),\n",
       " (('it', 'take', 'time'), 3),\n",
       " (('we', 'making', 'progress'), 3),\n",
       " (('president', 'voting', '#'), 3),\n",
       " (('president', 'voting', 'bhfyp'), 3),\n",
       " (('republicans', 'love', 'liberal#democrat'), 3),\n",
       " (('i', '!hate', 'children'), 3)]"
      ]
     },
     "execution_count": 83,
     "metadata": {},
     "output_type": "execute_result"
    }
   ],
   "source": [
    "count_democratic.most_common(20)"
   ]
  },
  {
   "cell_type": "code",
   "execution_count": null,
   "id": "d1cd7610",
   "metadata": {},
   "outputs": [],
   "source": []
  }
 ],
 "metadata": {
  "kernelspec": {
   "display_name": "Python 3 (ipykernel)",
   "language": "python",
   "name": "python3"
  },
  "language_info": {
   "codemirror_mode": {
    "name": "ipython",
    "version": 3
   },
   "file_extension": ".py",
   "mimetype": "text/x-python",
   "name": "python",
   "nbconvert_exporter": "python",
   "pygments_lexer": "ipython3",
   "version": "3.9.12"
  }
 },
 "nbformat": 4,
 "nbformat_minor": 5
}
